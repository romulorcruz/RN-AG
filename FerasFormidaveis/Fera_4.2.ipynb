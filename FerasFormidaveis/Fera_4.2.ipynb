{
 "cells": [
  {
   "cell_type": "markdown",
   "id": "5588cc7a",
   "metadata": {},
   "source": [
    "## Fera Formidável 4.2\n",
    "### Stop right now, thank you very much\n",
    "#### Rômulo 24024"
   ]
  },
  {
   "cell_type": "markdown",
   "id": "1e1963eb",
   "metadata": {},
   "source": [
    "### Enunciado:\n",
    "**Objetivo:** implemente uma estratégia de Parada Antecipada (Early Stopping) no\n",
    "processo de treino da rede neural feita em Python puro ou no processo de treino da rede\n",
    "neural feita em PyTorch\n",
    "\n",
    "**Comentário:** esta não é para resolver com o módulo lightning."
   ]
  },
  {
   "cell_type": "markdown",
   "id": "60eb1e04",
   "metadata": {},
   "source": [
    "### Introdução:\n",
    "**Early stopping** é uma técnica de regularização usada no treinamento de redes neurais para evitar overfitting. Ela interrompe o treinamento quando a performance no conjunto de validação começa estagna ou começa a piorar. Isso preserva o modelo no ponto em que ele é mais geral.\n",
    "\n",
    "Implementarei uma estratégia de Parada Antecipada (Early Stopping). Para isso, implementarei uma forma de obter um ponto de checagem (checkpoint) e uma forma de utilizar estes parâmetros de viéses e pesos para reobter os resultados."
   ]
  },
  {
   "cell_type": "markdown",
   "id": "c765a5b9",
   "metadata": {},
   "source": [
    "#### Imports necessários:"
   ]
  },
  {
   "cell_type": "code",
   "execution_count": 1,
   "id": "95c1d9c9",
   "metadata": {},
   "outputs": [],
   "source": [
    "import pandas as pd\n",
    "import random\n",
    "import numpy as np\n",
    "import math\n",
    "import matplotlib.pyplot as plt\n",
    "from sklearn.preprocessing import StandardScaler\n",
    "\n",
    "dados = pd.read_csv('http://gist.githubusercontent.com/slopp/ce3b90b9168f2f921784de84fa445651/raw/4ecf3041f0ed4913e7c230758733948bc561f434/penguins.csv').dropna()"
   ]
  },
  {
   "cell_type": "markdown",
   "id": "bddab377",
   "metadata": {},
   "source": [
    "#### Classes da Rede Neural  em python puro:"
   ]
  },
  {
   "cell_type": "code",
   "execution_count": 2,
   "id": "f78df018",
   "metadata": {},
   "outputs": [],
   "source": [
    "class Valor:\n",
    "    def __init__(self, data, progenitor=(), operador_mae=\"\", rotulo=\"\"):\n",
    "        self.data = data\n",
    "        self.progenitor = progenitor\n",
    "        self.operador_mae = operador_mae\n",
    "        self.rotulo = rotulo\n",
    "        self.grad = 0\n",
    "\n",
    "    def __repr__(self):\n",
    "        return f\"Valor(data={self.data})\"\n",
    "    \n",
    "    def __add__(self, outro_valor):\n",
    "        \"\"\"Realiza a operação: self + outro_valor.\"\"\"\n",
    "        \n",
    "        if not isinstance(outro_valor, Valor):\n",
    "            outro_valor = Valor(outro_valor)\n",
    "            \n",
    "        progenitor = (self, outro_valor)\n",
    "        data = self.data + outro_valor.data\n",
    "        operador_mae = \"+\"\n",
    "        resultado = Valor(data, progenitor, operador_mae)\n",
    "        \n",
    "        def propagar_adicao():\n",
    "            self.grad += resultado.grad\n",
    "            outro_valor.grad += resultado.grad\n",
    "            \n",
    "        resultado.propagar = propagar_adicao\n",
    "        \n",
    "        return resultado\n",
    "    \n",
    "    def __mul__(self, outro_valor):\n",
    "        \"\"\"Realiza a operação: self * outro_valor.\"\"\"\n",
    "        \n",
    "        if not isinstance(outro_valor, Valor):\n",
    "            outro_valor = Valor(outro_valor)\n",
    "            \n",
    "        progenitor = (self, outro_valor)\n",
    "        data = self.data * outro_valor.data\n",
    "        operador_mae = \"*\"\n",
    "        resultado = Valor(data, progenitor, operador_mae)\n",
    "        \n",
    "        def propagar_multiplicacao():\n",
    "            self.grad += resultado.grad * outro_valor.data # grad_filho * derivada filho em relação a mãe\n",
    "            outro_valor.grad += resultado.grad * self.data\n",
    "            \n",
    "        resultado.propagar = propagar_multiplicacao\n",
    "        \n",
    "        return resultado\n",
    "    \n",
    "    def exp(self):\n",
    "        \"\"\"Realiza a operação: exp(self)\"\"\"\n",
    "        progenitor = (self, )\n",
    "        data = np.exp(self.data)\n",
    "        operador_mae = \"exp\"\n",
    "        resultado = Valor(data, progenitor, operador_mae)\n",
    "        \n",
    "        def propagar_exp():\n",
    "            self.grad += resultado.grad * data \n",
    "        \n",
    "        resultado.propagar = propagar_exp\n",
    "        \n",
    "        return resultado\n",
    "    \n",
    "    def __pow__(self, expoente):\n",
    "        \"\"\"Realiza a operação: self ** expoente\"\"\"\n",
    "        assert isinstance(expoente, (int, float))\n",
    "        progenitor = (self, )\n",
    "        data = self.data ** expoente\n",
    "        operador_mae = f\"**{expoente}\"\n",
    "        resultado = Valor(data, progenitor, operador_mae)\n",
    "        \n",
    "        def propagar_pow():\n",
    "            self.grad += resultado.grad * (expoente * self.data ** (expoente - 1))\n",
    "        \n",
    "        resultado.propagar = propagar_pow\n",
    "        \n",
    "        return resultado\n",
    "    def log(self):\n",
    "        \"\"\"Calcula o logaritmo natural do número\"\"\"\n",
    "        progenitor = (self,)\n",
    "        data = math.log(self.data)\n",
    "        resultado = Valor(data, progenitor, \"log\")\n",
    "\n",
    "        def propagar_log():\n",
    "            self.grad += resultado.grad * (1 / self.data)\n",
    "\n",
    "        resultado.propagar = propagar_log\n",
    "        return resultado\n",
    "\n",
    "    \n",
    "    def __truediv__(self, outro_valor):\n",
    "        \"\"\"Realiza a operação: self / outro_valor\"\"\"\n",
    "        return self * outro_valor ** (-1)\n",
    "    \n",
    "    def __neg__(self):\n",
    "        \"\"\"Realiza a operação: -self\"\"\"\n",
    "        return self * -1\n",
    "    \n",
    "    def __sub__(self, outro_valor):\n",
    "        \"\"\"Realiza a operação: self - outro_valor\"\"\"\n",
    "        return self + (-outro_valor)\n",
    "    \n",
    "    def __radd__(self, outro_valor):\n",
    "        \"\"\"Realiza a operação: outro_valor + self\"\"\"\n",
    "        return self + outro_valor\n",
    "    def __rsub__(self, outro_valor):\n",
    "        \"\"\"Realiza a operação: outro_valor - self\"\"\"\n",
    "        return outro_valor + (-self)\n",
    "    \n",
    "    def __rmul__(self, outro_valor):\n",
    "        \"\"\"Realiza a operação: outro_valor * self\"\"\"\n",
    "        return self * outro_valor\n",
    "    \n",
    "    def sig(self):\n",
    "        \"\"\"Realiza a operação: exp(self) / (exp(self) + 1)\"\"\"\n",
    "        e_neg = (-self).exp()\n",
    "        return Valor(1) / (Valor(1) + e_neg)\n",
    "\n",
    "    \n",
    "    def propagar(self):\n",
    "        pass\n",
    "    \n",
    "    def propagar_tudo(self):\n",
    "        \n",
    "        self.grad = 1\n",
    "        \n",
    "        ordem_topologica = []\n",
    "        \n",
    "        visitados = set()\n",
    "\n",
    "        def constroi_ordem_topologica(v):\n",
    "            if v not in visitados:\n",
    "                visitados.add(v)\n",
    "                for progenitor in v.progenitor:\n",
    "                    constroi_ordem_topologica(progenitor)\n",
    "                ordem_topologica.append(v)\n",
    "\n",
    "        constroi_ordem_topologica(self)\n",
    "        \n",
    "        for vertice in reversed(ordem_topologica):\n",
    "            vertice.propagar()"
   ]
  },
  {
   "cell_type": "markdown",
   "id": "cf1e8957",
   "metadata": {},
   "source": [
    "A classe MLP foi ajustada para receber os parâmetros, para que após o checkpoint, possamos recuperar o melhor modelo.\n",
    "Estes parâmetros serão recebidos na forma de lista, que será salva a partir da instância params. Cada camada receberá os parâmetros de acordo número de pesos e de vieses, o npumero de viéses sempre será o número de neurônios da camada."
   ]
  },
  {
   "cell_type": "code",
   "execution_count": 3,
   "id": "c558fcfa",
   "metadata": {},
   "outputs": [],
   "source": [
    "class MLP:\n",
    "    def __init__(self, num_dados_entrada, num_neuronios_por_camada, parametros=None):\n",
    "        percurso = [num_dados_entrada] + num_neuronios_por_camada\n",
    "        camadas = []\n",
    "        \n",
    "        indice = 0 # índice inicial para aplicar os pesos de viéses corretamente nos neurônios\n",
    "        if parametros is None:\n",
    "            for i in range(len(num_neuronios_por_camada)):\n",
    "                camada = Camada(num_neuronios_por_camada[i], percurso[i])\n",
    "                camadas.append(camada)\n",
    "        else:\n",
    "            for i in range(len(num_neuronios_por_camada)):\n",
    "                # calculamos o numero de pesos, cada neurônio tem um peso associado a cada dados de entrada e um único viés\n",
    "                num_pesos = percurso[i] * num_neuronios_por_camada[i]\n",
    "                num_vieses = num_neuronios_por_camada[i]\n",
    "                \n",
    "                camada_parametros = parametros[indice: indice + num_pesos + num_vieses]\n",
    "                camada = Camada(num_neuronios_por_camada[i], percurso[i], camada_parametros)\n",
    "                camadas.append(camada)\n",
    "                \n",
    "                indice += num_pesos + num_vieses # desta forma, garantimos que mesmo as camadas tendo numero de neuronios\n",
    "                #  diferentes, os parametros ainda serão distribuidos corretamente\n",
    "        \n",
    "        self.camadas = camadas\n",
    "    def __call__(self, x, ):\n",
    "        for camada in self.camadas:\n",
    "            x = camada(x)\n",
    "        return x\n",
    "    \n",
    "    def parametros(self):\n",
    "        params = []\n",
    "        \n",
    "        for camada in self.camadas:\n",
    "            parametros_camada = camada.parametros()\n",
    "            params.extend(parametros_camada)\n",
    "            \n",
    "        return params"
   ]
  },
  {
   "cell_type": "markdown",
   "id": "d7d861fc",
   "metadata": {},
   "source": [
    "A classe camada também será atualizada para poder propagar os parâmetros recebidos na MLP para os neurônios, eles devem estar ajustados de forma que o neurônio receba somente os parâmetros referentes a ele, portanto, haverá parâmetros de pesos para cada dado de entrada do neurônio e um parâmetro de viés para cada neurônio, que sempre será o pultimo da lista."
   ]
  },
  {
   "cell_type": "code",
   "execution_count": 4,
   "id": "0075644a",
   "metadata": {},
   "outputs": [],
   "source": [
    "class Camada:\n",
    "    def __init__(self, num_neuronios, num_dados_entrada, parametros=None):\n",
    "        neuronios = []\n",
    "        indice = 0\n",
    "        if parametros is None:\n",
    "            for _ in range(num_neuronios):\n",
    "                neuronio = Neuronio(num_dados_entrada)\n",
    "                neuronios.append(neuronio)\n",
    "        else:\n",
    "            for _ in range(num_neuronios):\n",
    "                # os parâmetros já vem organizados a partir da MLP, só devemos distribuí-los corretamente em cada neurônio\n",
    "                neuronio_parametros = parametros[indice: indice + num_dados_entrada + 1] # +1, critério de parada é excludente\n",
    "                neuronio = Neuronio(num_dados_entrada, neuronio_parametros)\n",
    "                neuronios.append(neuronio)\n",
    "                indice += num_dados_entrada + 1 # atualizando o indice, não atualizo o indice no for, pois se for multiplicá-lo\n",
    "                # pelo numero de dados de entrada posteriormente, irei aumentado de dados de entrada em dados de entrada\n",
    "        \n",
    "        self.neuronios = neuronios\n",
    "    def __call__(self, x):\n",
    "        dados_de_saida = []\n",
    "        \n",
    "        for neuronio in self.neuronios:\n",
    "            informacao = neuronio(x)\n",
    "            dados_de_saida.append(informacao)\n",
    "            \n",
    "        if len(dados_de_saida) == 1:\n",
    "            return dados_de_saida[0]\n",
    "        else:        \n",
    "            return dados_de_saida \n",
    "    def parametros(self):\n",
    "        params = []\n",
    "        \n",
    "        for neuronio in self.neuronios:\n",
    "            params_neuronio = neuronio.parametros()\n",
    "            params.extend(params_neuronio)\n",
    "        \n",
    "        return params"
   ]
  },
  {
   "cell_type": "markdown",
   "id": "665f31c3",
   "metadata": {},
   "source": [
    "Na classe neurônio, se os parâmetros forem dados, não necessitaremos gerar os pesos e viéses aleatoriamente. No lugar, usaremos os parâmetros fornecidos por camada, o último parâmetro sera o viés e os demais os pesos, que serão associados corretamente a cada neurônio."
   ]
  },
  {
   "cell_type": "code",
   "execution_count": 5,
   "id": "b1fc18a0",
   "metadata": {},
   "outputs": [],
   "source": [
    "class Neuronio:\n",
    "    def __init__(self, num_dados_entrada, parametros=None):\n",
    "        if parametros is None:\n",
    "            self.vies = Valor(random.uniform(-1, 1))\n",
    "            self.pesos = [Valor(random.uniform(-1, 1)) for _ in range(num_dados_entrada)]\n",
    "        else:\n",
    "            # Aplicamos os pesos já separados adequadamente em camada, o viés sempre será o último, os pesos os anteriores\n",
    "            self.pesos = parametros[:-1]\n",
    "            self.vies = parametros[-1]\n",
    "\n",
    "    def __call__(self, x):\n",
    "        assert len(x) == len(self.pesos)\n",
    "        soma = Valor(0)\n",
    "        for info_entrada, peso_interno in zip(x, self.pesos):\n",
    "            soma += info_entrada * peso_interno\n",
    "        soma += self.vies\n",
    "        dado_de_saida = soma.sig()\n",
    "        return dado_de_saida\n",
    "\n",
    "    def parametros(self):\n",
    "        return self.pesos + [self.vies]"
   ]
  },
  {
   "cell_type": "markdown",
   "id": "9c0ecb65",
   "metadata": {},
   "source": [
    "#### Tratando os dados:\n",
    "Selecionaremos as seguintes features:\n",
    "- Comprimento do bico\n",
    "- Comprimento da nadadeira\n",
    "- Massa corporal\n",
    "- Ano de análise\n",
    "\n",
    "Após isso, faremos a normalização e criaremos o modelo MLP."
   ]
  },
  {
   "cell_type": "code",
   "execution_count": 6,
   "id": "fe1be561",
   "metadata": {},
   "outputs": [],
   "source": [
    "x = ['bill_length_mm', 'flipper_length_mm','body_mass_g']\n",
    "y = ['bill_depth_mm']\n",
    "\n",
    "x = dados.loc[:,x].values # Seleção do x com base nos features\n",
    "y_true = dados.loc[:,y].values # Seleção do y_true com base no target\n",
    "\n",
    "# Normalização:\n",
    "x_scaler = StandardScaler() # usarei o standar scaler\n",
    "x_scaler.fit(x)\n",
    " \n",
    "y_scaler = StandardScaler()\n",
    "y_scaler.fit(y_true)\n",
    " \n",
    "x = x_scaler.transform(x).tolist()\n",
    "y_true = y_scaler.transform(y_true).tolist()\n",
    "\n",
    "x = [[Valor(x__) for x__ in x_] for x_ in x]\n",
    "y_true = [Valor(y_true_[0]) for y_true_ in y_true]\n",
    "\n",
    "# Arquitetura MLP:\n",
    "NUM_DADOS_DE_ENTRADA = 3 \n",
    "NUM_DADOS_DE_SAIDA = 1    \n",
    "CAMADAS_OCULTAS = [5, 6, 3]  \n",
    "\n",
    "arquitetura_da_rede = CAMADAS_OCULTAS + [NUM_DADOS_DE_SAIDA]\n",
    "\n",
    "minha_mlp = MLP(NUM_DADOS_DE_ENTRADA, arquitetura_da_rede) # Criando MLP"
   ]
  },
  {
   "cell_type": "markdown",
   "id": "25dec03d",
   "metadata": {},
   "source": [
    "Treinando o modelo com checkpoint:"
   ]
  },
  {
   "cell_type": "code",
   "execution_count": null,
   "id": "6343a978",
   "metadata": {},
   "outputs": [
    {
     "name": "stdout",
     "output_type": "stream",
     "text": [
      "0 1.1294941058638843\n",
      "1 1.0901050726191674\n",
      "2 1.066714497761123\n",
      "3 1.051906677816773\n",
      "4 1.041937357092405\n",
      "5 1.0348717832443814\n",
      "6 1.0296517528217375\n",
      "7 1.0256633845638343\n",
      "8 1.0225312278945249\n",
      "9 1.020014946579823\n",
      "10 1.017954584436707\n",
      "11 1.016240074980293\n",
      "12 1.014793478357807\n",
      "13 1.0135582162897236\n",
      "14 1.0124923175733382\n",
      "15 1.0115640482855155\n",
      "16 1.0107490071298224\n",
      "17 1.0100281476025474\n"
     ]
    }
   ],
   "source": [
    "NUM_EPOCAS = 100000\n",
    "TAXA_DE_APRENDIZADO = 0.7\n",
    "PACIENCIA = 3\n",
    "checkpoint = [-1, float('inf')] # Para o primeiro treino já substituir o checkpoint\n",
    "loss = Valor(0) # Para o critério de parada\n",
    "losses = [] # Para plots futuros\n",
    "count = 0\n",
    "\n",
    "for epoca in range(NUM_EPOCAS):\n",
    "    # meu criterio de parada do early stopping\n",
    "    if count == PACIENCIA:\n",
    "        break\n",
    "\n",
    "    loss_antigo = loss.data\n",
    "\n",
    "    # forward pass\n",
    "    y_pred = []\n",
    "    for exemplo in x:\n",
    "        previsao = minha_mlp(exemplo)\n",
    "        y_pred.append(previsao)\n",
    "\n",
    "    # loss\n",
    "    erros = []\n",
    "    for yt, yp in zip(y_true, y_pred):\n",
    "        residuo = yp - yt\n",
    "        erro_quadratico = residuo ** 2\n",
    "        erros.append(erro_quadratico)        \n",
    "    loss = sum(erros)/len(erros)\n",
    "\n",
    "    if loss.data < checkpoint[1]:\n",
    "        checkpoint = [epoca, loss.data]\n",
    "        for p in minha_mlp.parametros():\n",
    "            checkpoint.append(p)\n",
    "\n",
    "    # zero grad\n",
    "    for p in minha_mlp.parametros():\n",
    "        p.grad = 0\n",
    "\n",
    "    # backpropagation\n",
    "    loss.propagar_tudo()\n",
    "\n",
    "    # atualiza parâmetros\n",
    "    for p in minha_mlp.parametros():\n",
    "        p.data = p.data - p.grad * TAXA_DE_APRENDIZADO\n",
    "\n",
    "    print(epoca, loss.data)\n",
    "    losses.append(loss)\n",
    "    # Isto permite que o early topping ocorra\n",
    "    if abs(loss_antigo - loss.data) < TAXA_DE_PACIENCIA:\n",
    "        count += 1\n",
    "    else:\n",
    "        count = 0"
   ]
  },
  {
   "cell_type": "markdown",
   "id": "1e7a081d",
   "metadata": {},
   "source": [
    "Exibindo nosso checkpoint:"
   ]
  },
  {
   "cell_type": "code",
   "execution_count": 13,
   "id": "27de9c2d",
   "metadata": {},
   "outputs": [
    {
     "data": {
      "text/plain": [
       "[17,\n",
       " np.float64(1.0100281476025474),\n",
       " Valor(data=-0.6734208681378159),\n",
       " Valor(data=0.7582469609674566),\n",
       " Valor(data=-0.7463300485878687),\n",
       " Valor(data=-0.9960362514817394),\n",
       " Valor(data=-0.010756501293098245),\n",
       " Valor(data=-0.22047522950902376),\n",
       " Valor(data=-0.6256181386133504),\n",
       " Valor(data=-0.8135711220749172),\n",
       " Valor(data=-0.5142416639488646),\n",
       " Valor(data=-0.5935103954302333),\n",
       " Valor(data=0.6328061310557054),\n",
       " Valor(data=0.35745726738638284),\n",
       " Valor(data=0.6766221944636145),\n",
       " Valor(data=0.8453014325623713),\n",
       " Valor(data=0.10177374611118471),\n",
       " Valor(data=0.8455921859235122),\n",
       " Valor(data=0.46831879697305523),\n",
       " Valor(data=-0.29210524956886397),\n",
       " Valor(data=-0.5459304614437923),\n",
       " Valor(data=0.8851246682659983),\n",
       " Valor(data=-0.47359615449428427),\n",
       " Valor(data=0.2255803754240293),\n",
       " Valor(data=-0.8876836569417985),\n",
       " Valor(data=0.4901584253830537),\n",
       " Valor(data=-0.3601731099906037),\n",
       " Valor(data=-0.1440328920073826),\n",
       " Valor(data=-0.4222605800246556),\n",
       " Valor(data=-0.6028279453610185),\n",
       " Valor(data=0.8573035177575246),\n",
       " Valor(data=0.9837400986113987),\n",
       " Valor(data=0.8384683860401815),\n",
       " Valor(data=0.13061650931364607),\n",
       " Valor(data=-0.9390806629029043),\n",
       " Valor(data=0.3614361535940024),\n",
       " Valor(data=-0.8512172329946843),\n",
       " Valor(data=0.7230642702471541),\n",
       " Valor(data=0.8184715686578681),\n",
       " Valor(data=0.711236563122339),\n",
       " Valor(data=0.21643113629599087),\n",
       " Valor(data=0.5854809808854675),\n",
       " Valor(data=-0.8417848745876367),\n",
       " Valor(data=-0.05621523349967488),\n",
       " Valor(data=0.2822842309524977),\n",
       " Valor(data=-0.9624843163886818),\n",
       " Valor(data=-0.6119872421663929),\n",
       " Valor(data=0.0428304227072888),\n",
       " Valor(data=0.6512367888646495),\n",
       " Valor(data=0.383168872721418),\n",
       " Valor(data=0.7908156445706265),\n",
       " Valor(data=0.6636049861114632),\n",
       " Valor(data=-0.7665725734485302),\n",
       " Valor(data=0.20332458091746897),\n",
       " Valor(data=-0.9957999971282205),\n",
       " Valor(data=0.19809107111467542),\n",
       " Valor(data=-0.6172983612212593),\n",
       " Valor(data=-0.640527803629075),\n",
       " Valor(data=0.5462558820085212),\n",
       " Valor(data=-0.286922009270557),\n",
       " Valor(data=0.9828275731158574),\n",
       " Valor(data=0.09153480265691141),\n",
       " Valor(data=0.09818685436624548),\n",
       " Valor(data=0.9474546749957963),\n",
       " Valor(data=-0.5999259030698528),\n",
       " Valor(data=-0.14890291767231448),\n",
       " Valor(data=-0.4156934582758619),\n",
       " Valor(data=0.3883435069180811),\n",
       " Valor(data=0.7642818619120088),\n",
       " Valor(data=-0.5320287857132936),\n",
       " Valor(data=0.4909656620695872),\n",
       " Valor(data=-0.02619782624356717),\n",
       " Valor(data=0.9986064652593388),\n",
       " Valor(data=0.10099199901988964),\n",
       " Valor(data=0.5060333167034968),\n",
       " Valor(data=0.8297374183163534),\n",
       " Valor(data=0.6020972844260868),\n",
       " Valor(data=-0.39499137907928844),\n",
       " Valor(data=0.9817939950413374),\n",
       " Valor(data=-0.38575175013250584),\n",
       " Valor(data=-0.5750333871317089),\n",
       " Valor(data=-1.5030628421670227),\n",
       " Valor(data=-0.36534786129339997)]"
      ]
     },
     "execution_count": 13,
     "metadata": {},
     "output_type": "execute_result"
    }
   ],
   "source": [
    "checkpoint"
   ]
  },
  {
   "cell_type": "markdown",
   "id": "8d6e8c61",
   "metadata": {},
   "source": [
    "Recriando minha MLP com mesmos parâmetros:"
   ]
  },
  {
   "cell_type": "code",
   "execution_count": 14,
   "id": "b9b8e89e",
   "metadata": {},
   "outputs": [],
   "source": [
    "minha_mlp = MLP(NUM_DADOS_DE_ENTRADA, arquitetura_da_rede,checkpoint[2:])"
   ]
  },
  {
   "cell_type": "code",
   "execution_count": 15,
   "id": "3bec483a",
   "metadata": {
    "scrolled": true
   },
   "outputs": [
    {
     "name": "stdout",
     "output_type": "stream",
     "text": [
      "1.0088117050300958\n",
      "[Valor(data=-0.6737440469065985), Valor(data=0.7576266771822613), Valor(data=-0.746783403379506), Valor(data=-0.9961145012035479), Valor(data=-0.01053465532476586), Valor(data=-0.21988578185512286), Valor(data=-0.625192646722108), Valor(data=-0.813690695429462), Valor(data=-0.5149740498672775), Valor(data=-0.5954273540051637), Valor(data=0.6312048924653655), Valor(data=0.35697197242234047), Valor(data=0.6767880809055689), Valor(data=0.8456002510456102), Valor(data=0.10196811205458017), Valor(data=0.8454948632847676), Valor(data=0.4684425869206533), Valor(data=-0.29193182983856997), Valor(data=-0.5458115375095453), Valor(data=0.8851262093984186), Valor(data=-0.47352638008812037), Valor(data=0.2254199203508812), Valor(data=-0.8875647678531594), Valor(data=0.4909303613660048), Valor(data=-0.3601193470881552), Valor(data=-0.14358409125938043), Valor(data=-0.4222588599303631), Valor(data=-0.6027513163680865), Valor(data=0.8573222211926056), Valor(data=0.9835503290414246), Valor(data=0.8385076909514343), Valor(data=0.13056251057370696), Valor(data=-0.9390761627489719), Valor(data=0.36119146786434575), Valor(data=-0.8512518098477136), Valor(data=0.7238544288544915), Valor(data=0.8184129490109652), Valor(data=0.7115351319966656), Valor(data=0.21646960312770536), Valor(data=0.5852275575631772), Valor(data=-0.8417565452443845), Valor(data=-0.0554288668635438), Valor(data=0.282211220393266), Valor(data=-0.962146813975488), Valor(data=-0.611993837736717), Valor(data=0.04282566273226215), Valor(data=0.6512225464114055), Valor(data=0.3831627949294811), Valor(data=0.7908066845310134), Valor(data=0.6635881449966777), Valor(data=-0.7665137252270434), Valor(data=0.2032611598080712), Valor(data=-0.9956847572592855), Valor(data=0.1985213268825566), Valor(data=-0.61723131230809), Valor(data=-0.6402262938969776), Valor(data=0.5468825306364844), Valor(data=-0.28592439239004896), Valor(data=0.9837436571763979), Valor(data=0.09171326692368646), Valor(data=0.09902976030667426), Valor(data=0.9477681447433682), Valor(data=-0.598885810396716), Valor(data=-0.14793863617214606), Valor(data=-0.4141325819154364), Valor(data=0.38976945520839706), Valor(data=0.7645652685753592), Valor(data=-0.5306992924621236), Valor(data=0.4914474411096227), Valor(data=-0.0245584508005602), Valor(data=0.9993086287370526), Valor(data=0.10205799038358551), Valor(data=0.5070275495119255), Valor(data=0.8299196670944243), Valor(data=0.6029768715812993), Valor(data=-0.39463865653152586), Valor(data=0.982881363707983), Valor(data=-0.3935517786813966), Valor(data=-0.5799352968323168), Valor(data=-1.5139896928784389), Valor(data=-0.37704460493946845)]\n"
     ]
    }
   ],
   "source": [
    "y_pred = []\n",
    "comparativo = []\n",
    "for exemplo in x:\n",
    "    previsao = minha_mlp(exemplo)\n",
    "    y_pred.append(previsao)\n",
    "\n",
    "# loss\n",
    "erros = []\n",
    "for yt, yp in zip(y_true, y_pred):\n",
    "    residuo = yp - yt\n",
    "    erro_quadratico = residuo ** 2\n",
    "    erros.append(erro_quadratico)        \n",
    "loss = sum(erros)/len(erros)\n",
    "\n",
    "# zero grad\n",
    "for p in minha_mlp.parametros():\n",
    "    p.grad = 0\n",
    "\n",
    "# backpropagation\n",
    "loss.propagar_tudo()\n",
    "\n",
    "# atualiza parâmetros\n",
    "for p in minha_mlp.parametros():\n",
    "    p.data = p.data - p.grad * TAXA_DE_APRENDIZADO\n",
    "\n",
    "# mostra resultado (opcional)\n",
    "print(loss.data)\n",
    "print([p for p in minha_mlp.parametros()])"
   ]
  },
  {
   "cell_type": "markdown",
   "id": "b8bdce2c",
   "metadata": {},
   "source": [
    "Vamos ver se deu certo:"
   ]
  },
  {
   "cell_type": "code",
   "execution_count": 16,
   "id": "b05f38cd",
   "metadata": {},
   "outputs": [
    {
     "data": {
      "image/png": "[encoded data removed]",
      "text/plain": [
       "<Figure size 640x480 with 1 Axes>"
      ]
     },
     "metadata": {},
     "output_type": "display_data"
    }
   ],
   "source": [
    "comparativo = [p for p in minha_mlp.parametros()]\n",
    "diferencas = [p.data - cp.data for p, cp in zip(comparativo, checkpoint[2:])]\n",
    "\n",
    "plt.plot(diferencas)\n",
    "plt.title(\"Diferença parâmetros do checkpoint e dos recuperados\")\n",
    "plt.xlabel(\"Parâmetro\")\n",
    "plt.ylabel(\"Diferença entre os parâmetros\")\n",
    "plt.grid()\n",
    "plt.show()"
   ]
  },
  {
   "cell_type": "markdown",
   "id": "72610d04",
   "metadata": {},
   "source": [
    "#### Plotando a perda dos valores originais:"
   ]
  },
  {
   "cell_type": "code",
   "execution_count": 18,
   "id": "2b4a080c",
   "metadata": {},
   "outputs": [
    {
     "data": {
      "image/png": "[encoded data removed]",
      "text/plain": [
       "<Figure size 640x480 with 1 Axes>"
      ]
     },
     "metadata": {},
     "output_type": "display_data"
    }
   ],
   "source": [
    "plt.plot(range(epoca),[loss.data for loss in losses])\n",
    "plt.title(\"Curva de perda\")\n",
    "plt.xlabel(\"Época\")\n",
    "plt.ylabel(\"Loss\")\n",
    "plt.grid()\n",
    "plt.show()"
   ]
  },
  {
   "cell_type": "markdown",
   "id": "c464c321",
   "metadata": {},
   "source": [
    "Podemos perceber que o número de épocas está reduzido em relação ao instanciado, evidenciando que o early stopping ocorreu."
   ]
  },
  {
   "cell_type": "markdown",
   "id": "5dc03394",
   "metadata": {},
   "source": [
    "Transformando o que nós fizemos em uma classe organizada, para melhor conversar com o pytorch:\n",
    "Uma classe me pareceu melhor pois as estruturas no pytorch estão organizadas assim, e podemos armazenar o counter localmente, numa função necessitaríamos uma variável externa que ficasse atualizando continuamente.\n",
    "Posso adicionar uma instância de checkpoint para receber os parâmetros de best score futuramente."
   ]
  },
  {
   "cell_type": "code",
   "execution_count": null,
   "id": "eb3b5ca0",
   "metadata": {},
   "outputs": [],
   "source": [
    "# Nesta função não utilizei a comparação com taxa de paciência, pois me pareceu desnecessário\n",
    "class EarlyStopping:\n",
    "    def __init__(self, patience=5):\n",
    "        self.patience = patience # Paciência\n",
    "        self.counter = 0 # O nosso counter para comparação\n",
    "        self.best_score = float('inf') # Devemos iniciar \n",
    "        self.stop = False # Quando for true, o early stopping deve ocorrer\n",
    "\n",
    "    def __call__(self, val_loss): # Call da nossa função\n",
    "        if val_loss < self.best_score:\n",
    "            self.best_score = val_loss\n",
    "            self.counter = 0\n",
    "        else:\n",
    "            self.counter += 1\n",
    "            if self.counter >= self.patience:\n",
    "                self.stop = True # Deve ser adicionado externamente que se a instância for true, o early stopping ocorre"
   ]
  },
  {
   "cell_type": "markdown",
   "id": "67fc2d1f",
   "metadata": {},
   "source": [
    "### Conclusão:\n",
    "O código implementa uma rede neural em Python puro com suporte a Parada Antecipada (Early Stopping), conforme o enunciado. Essa estratégia interrompe o treinamento quando a perda não melhora significativamente, evitando overfitting e economizando recursos. Checkpoints garantem a recuperação dos melhores parâmetros do modelo. A implementação demonstrou eficiência ao reduzir o número de épocas necessárias, mantendo a qualidade do modelo."
   ]
  },
  {
   "cell_type": "markdown",
   "id": "8975b438",
   "metadata": {},
   "source": [
    "### Referências\n",
    "\n",
    "- \"Regularization by Early Stopping.\"\n",
    "\n",
    "Disponível em: <https://www.geeksforgeeks.org/regularization-by-early-stopping/>\n",
    "\n",
    "- \"Early stopping is a form of regularization that halts the training process when the performance of the model on a validation dataset starts to degrade.\"\n",
    "\n",
    "Disponível em: <https://www.geeksforgeeks.org/using-early-stopping-to-reduce-overfitting-in-neural-networks/>\n",
    "\n",
    "- Classes da MLP em Python puro\n",
    "\n",
    " Obtidos em: ATP-303 NN 4.2 - Notebook MLP.ipynb"
   ]
  }
 ],
 "metadata": {
  "kernelspec": {
   "display_name": "Python 3",
   "language": "python",
   "name": "python3"
  },
  "language_info": {
   "codemirror_mode": {
    "name": "ipython",
    "version": 3
   },
   "file_extension": ".py",
   "mimetype": "text/x-python",
   "name": "python",
   "nbconvert_exporter": "python",
   "pygments_lexer": "ipython3",
   "version": "3.11.6"
  }
 },
 "nbformat": 4,
 "nbformat_minor": 5
}
