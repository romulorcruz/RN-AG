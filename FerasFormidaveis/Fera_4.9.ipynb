{
 "cells": [
  {
   "cell_type": "markdown",
   "id": "4602b16a",
   "metadata": {},
   "source": [
    "A senha de tamanho variável\n",
    "Objetivo: Resolver o problema da senha de forma que você não forneça a informação\n",
    "do tamanho da senha para a função que gera a população. Considere que a senha pode\n",
    "ser uma string de 1 até 30 caracteres.\n",
    "Dica: A função objetivo terá que quantificar em sua métrica tanto se o candidato\n",
    "acertou as letras quanto se acertou o tamanho da senha.\n",
    "8\n",
    "Dica 2: Você pode criar diferentes estratégias de mutação, não precisa ser apensa\n",
    "uma! Quem sabe uma função de mutação pode alterar letras e a outra pode alterar o\n",
    "tamanho da senha? Ver o exercício “Praticamente um X-man!”.\n",
    "Dica 3: Observe que você terá que pensar um pouco sobre como fará o cruzamento no\n",
    "caso de senhas de tamanhos diferentes. Quem sabe tenha que fazer alguma consideração\n",
    "adicional sobre quais são os valores possíveis para o ponto de corte…"
   ]
  },
  {
   "cell_type": "code",
   "execution_count": 32,
   "id": "50d08c90",
   "metadata": {},
   "outputs": [],
   "source": [
    "import random as rd\n",
    "from string import ascii_lowercase, ascii_uppercase, digits"
   ]
  },
  {
   "cell_type": "code",
   "execution_count": 33,
   "id": "502e807b",
   "metadata": {},
   "outputs": [],
   "source": [
    "possibilities = [charactere for charactere in (ascii_lowercase + ascii_uppercase + digits)]\n",
    "password = 'Interpol2005'"
   ]
  },
  {
   "cell_type": "code",
   "execution_count": 34,
   "id": "d69eca93",
   "metadata": {},
   "outputs": [
    {
     "data": {
      "text/plain": [
       "['a',\n",
       " 'b',\n",
       " 'c',\n",
       " 'd',\n",
       " 'e',\n",
       " 'f',\n",
       " 'g',\n",
       " 'h',\n",
       " 'i',\n",
       " 'j',\n",
       " 'k',\n",
       " 'l',\n",
       " 'm',\n",
       " 'n',\n",
       " 'o',\n",
       " 'p',\n",
       " 'q',\n",
       " 'r',\n",
       " 's',\n",
       " 't',\n",
       " 'u',\n",
       " 'v',\n",
       " 'w',\n",
       " 'x',\n",
       " 'y',\n",
       " 'z',\n",
       " 'A',\n",
       " 'B',\n",
       " 'C',\n",
       " 'D',\n",
       " 'E',\n",
       " 'F',\n",
       " 'G',\n",
       " 'H',\n",
       " 'I',\n",
       " 'J',\n",
       " 'K',\n",
       " 'L',\n",
       " 'M',\n",
       " 'N',\n",
       " 'O',\n",
       " 'P',\n",
       " 'Q',\n",
       " 'R',\n",
       " 'S',\n",
       " 'T',\n",
       " 'U',\n",
       " 'V',\n",
       " 'W',\n",
       " 'X',\n",
       " 'Y',\n",
       " 'Z',\n",
       " '0',\n",
       " '1',\n",
       " '2',\n",
       " '3',\n",
       " '4',\n",
       " '5',\n",
       " '6',\n",
       " '7',\n",
       " '8',\n",
       " '9']"
      ]
     },
     "execution_count": 34,
     "metadata": {},
     "output_type": "execute_result"
    }
   ],
   "source": [
    "possibilities"
   ]
  },
  {
   "cell_type": "code",
   "execution_count": 35,
   "id": "1cba4d7f",
   "metadata": {},
   "outputs": [],
   "source": [
    "def generate_population(p_size:int, c_size:int, possibilities:list):\n",
    "    return [[rd.choice(possibilities) for _ in range(c_size) ] for _ in range(p_size)]"
   ]
  },
  {
   "cell_type": "code",
   "execution_count": 6,
   "id": "ddeb17a9",
   "metadata": {},
   "outputs": [],
   "source": [
    "def objetive_function(password, shot):\n",
    "    distance = 0\n",
    "    count = 0\n",
    "    for char_password, char_shot in zip(password,shot):\n",
    "        distance += abs(ord(char_password) - ord(char_shot))\n",
    "        count += char_password != char_shot\n",
    "    return distance, count\n",
    "\n",
    "def pop_fitness(population, password):\n",
    "    return [sum(objetive_function(individue, password)) for individue in population]\n"
   ]
  },
  {
   "cell_type": "code",
   "execution_count": 28,
   "id": "5b6de118",
   "metadata": {},
   "outputs": [],
   "source": [
    "def crossing(father, mother, c_rate):\n",
    "    if rd.random() < c_rate:\n",
    "        son1, son2 = zip(*[(f, m) if rd.random() < 0.5 else (m, f) for m, f in zip(mother, father)])\n",
    "        return list(son1), list(son2)\n",
    "    return father, mother\n"
   ]
  },
  {
   "cell_type": "code",
   "execution_count": 36,
   "id": "73ffa650",
   "metadata": {},
   "outputs": [
    {
     "data": {
      "text/plain": [
       "['d', '6', '3', 'T', 'R', '0', 'g', '8', 'x', 'c', 'X', 'd']"
      ]
     },
     "execution_count": 36,
     "metadata": {},
     "output_type": "execute_result"
    }
   ],
   "source": [
    "population[0]"
   ]
  },
  {
   "cell_type": "code",
   "execution_count": 37,
   "id": "6054a9c9",
   "metadata": {},
   "outputs": [
    {
     "data": {
      "text/plain": [
       "['d', '6', '3', 'T', 'R', '0', 'g', '8', 'x', 'c', 'X', 'd']"
      ]
     },
     "execution_count": 37,
     "metadata": {},
     "output_type": "execute_result"
    }
   ],
   "source": [
    "population[1]"
   ]
  },
  {
   "cell_type": "code",
   "execution_count": 31,
   "id": "b4ceab12",
   "metadata": {},
   "outputs": [
    {
     "data": {
      "text/plain": [
       "(['d', '6', '3', 'T', 'R', '0', 'g', '8', 'x', 'c', 'X', 'd'],\n",
       " ['d', '6', '3', 'T', 'R', '0', 'g', '8', 'x', 'c', 'X', 'd'])"
      ]
     },
     "execution_count": 31,
     "metadata": {},
     "output_type": "execute_result"
    }
   ],
   "source": [
    "crossing(population[0], population[1],1)"
   ]
  },
  {
   "cell_type": "code",
   "execution_count": 8,
   "id": "d7341d2a",
   "metadata": {},
   "outputs": [],
   "source": [
    "def selection(population, fitness, p_size):\n",
    "    return rd.choices(population,weights=fitness, k = p_size)"
   ]
  },
  {
   "cell_type": "code",
   "execution_count": 18,
   "id": "7a3540cb",
   "metadata": {},
   "outputs": [],
   "source": [
    "def mutation(population, m_chance, possibilities: list):\n",
    "    for individue in population:\n",
    "        if rd.random() < m_chance:\n",
    "            gene_i = rd.randint(0,len(individue)-1)\n",
    "            temp = [x for x in possibilities if x != individue[gene_i]]\n",
    "            individue[gene_i] = rd.choices((temp))[0]"
   ]
  },
  {
   "cell_type": "code",
   "execution_count": 39,
   "id": "696e4363",
   "metadata": {},
   "outputs": [],
   "source": [
    "p_size = 10\n",
    "c_size = 12\n",
    "c_rate = .5\n",
    "m_rate = 0.3\n",
    "population = generate_population(p_size,c_size,possibilities)"
   ]
  },
  {
   "cell_type": "code",
   "execution_count": 40,
   "id": "973ecab7",
   "metadata": {},
   "outputs": [
    {
     "name": "stdout",
     "output_type": "stream",
     "text": [
      "1 4clouzJoKFBS\n",
      "8790 LpoofeWlyGO8\n",
      "8790 LpoofeWlyGO8\n",
      "27456 auXbpKVYQ129\n",
      "27456 auXbpKVYQ129\n",
      "34366 nudfEuos9H3M\n",
      "34366 nudfEuos9H3M\n",
      "48129 CpCeCwlkI2B7\n",
      "48129 CpCeCwlkI2B7\n",
      "437491 JzzlZoXXV4E8\n",
      "515360 fXZokyzf8587\n",
      "583777 QqcUmnPlBB0F\n"
     ]
    },
    {
     "ename": "KeyboardInterrupt",
     "evalue": "",
     "output_type": "error",
     "traceback": [
      "\u001b[31m---------------------------------------------------------------------------\u001b[39m",
      "\u001b[31mKeyboardInterrupt\u001b[39m                         Traceback (most recent call last)",
      "\u001b[36mCell\u001b[39m\u001b[36m \u001b[39m\u001b[32mIn[40]\u001b[39m\u001b[32m, line 6\u001b[39m\n\u001b[32m      4\u001b[39m \u001b[38;5;28;01mwhile\u001b[39;00m best_individue_general != \u001b[32m0\u001b[39m:\n\u001b[32m      5\u001b[39m     fitness = pop_fitness(population, password)\n\u001b[32m----> \u001b[39m\u001b[32m6\u001b[39m     selectioned = \u001b[43mselection\u001b[49m\u001b[43m(\u001b[49m\u001b[43mpopulation\u001b[49m\u001b[43m,\u001b[49m\u001b[43mfitness\u001b[49m\u001b[43m,\u001b[49m\u001b[43mp_size\u001b[49m\u001b[43m)\u001b[49m\n\u001b[32m      8\u001b[39m     next_gen = []\n\u001b[32m      9\u001b[39m     \u001b[38;5;28;01mfor\u001b[39;00m father, mother \u001b[38;5;129;01min\u001b[39;00m \u001b[38;5;28mzip\u001b[39m(selectioned[::\u001b[32m2\u001b[39m], selectioned[\u001b[32m1\u001b[39m::\u001b[32m2\u001b[39m]):\n",
      "\u001b[36mCell\u001b[39m\u001b[36m \u001b[39m\u001b[32mIn[8]\u001b[39m\u001b[32m, line 2\u001b[39m, in \u001b[36mselection\u001b[39m\u001b[34m(population, fitness, p_size)\u001b[39m\n\u001b[32m      1\u001b[39m \u001b[38;5;28;01mdef\u001b[39;00m\u001b[38;5;250m \u001b[39m\u001b[34mselection\u001b[39m(population, fitness, p_size):\n\u001b[32m----> \u001b[39m\u001b[32m2\u001b[39m     \u001b[38;5;28;01mreturn\u001b[39;00m \u001b[43mrd\u001b[49m\u001b[43m.\u001b[49m\u001b[43mchoices\u001b[49m\u001b[43m(\u001b[49m\u001b[43mpopulation\u001b[49m\u001b[43m,\u001b[49m\u001b[43mweights\u001b[49m\u001b[43m=\u001b[49m\u001b[43mfitness\u001b[49m\u001b[43m,\u001b[49m\u001b[43m \u001b[49m\u001b[43mk\u001b[49m\u001b[43m \u001b[49m\u001b[43m=\u001b[49m\u001b[43m \u001b[49m\u001b[43mp_size\u001b[49m\u001b[43m)\u001b[49m\n",
      "\u001b[36mFile \u001b[39m\u001b[32mc:\\venvs\\ilumpyNNGA\\Lib\\random.py:484\u001b[39m, in \u001b[36mRandom.choices\u001b[39m\u001b[34m(self, population, weights, cum_weights, k)\u001b[39m\n\u001b[32m    482\u001b[39m \u001b[38;5;28;01mif\u001b[39;00m total <= \u001b[32m0.0\u001b[39m:\n\u001b[32m    483\u001b[39m     \u001b[38;5;28;01mraise\u001b[39;00m \u001b[38;5;167;01mValueError\u001b[39;00m(\u001b[33m'\u001b[39m\u001b[33mTotal of weights must be greater than zero\u001b[39m\u001b[33m'\u001b[39m)\n\u001b[32m--> \u001b[39m\u001b[32m484\u001b[39m \u001b[38;5;28;01mif\u001b[39;00m \u001b[38;5;129;01mnot\u001b[39;00m \u001b[43m_isfinite\u001b[49m\u001b[43m(\u001b[49m\u001b[43mtotal\u001b[49m\u001b[43m)\u001b[49m:\n\u001b[32m    485\u001b[39m     \u001b[38;5;28;01mraise\u001b[39;00m \u001b[38;5;167;01mValueError\u001b[39;00m(\u001b[33m'\u001b[39m\u001b[33mTotal of weights must be finite\u001b[39m\u001b[33m'\u001b[39m)\n\u001b[32m    486\u001b[39m bisect = _bisect\n",
      "\u001b[31mKeyboardInterrupt\u001b[39m: "
     ]
    }
   ],
   "source": [
    "best_individue_general = float(\"inf\")\n",
    "gen = 0\n",
    "\n",
    "while best_individue_general != 0:\n",
    "    fitness = pop_fitness(population, password)\n",
    "    selectioned = selection(population,fitness,p_size)\n",
    "\n",
    "    next_gen = []\n",
    "    for father, mother in zip(selectioned[::2], selectioned[1::2]):\n",
    "        individue1, individue2 = crossing(father, mother, c_rate)\n",
    "        next_gen.append(individue1)\n",
    "        next_gen.append(individue2)\n",
    "\n",
    "    mutation(next_gen,m_rate,possibilities)\n",
    "\n",
    "    population = next_gen\n",
    "    gen += 1\n",
    "\n",
    "    fitness = pop_fitness(population, password)\n",
    "    best_individue = min(fitness)\n",
    "\n",
    "    if best_individue < best_individue_general:\n",
    "        best_individue_general = best_individue\n",
    "        indice = fitness.index(best_individue)\n",
    "        candidato = population[indice]\n",
    "        print(gen, \"\".join(candidato))"
   ]
  },
  {
   "cell_type": "code",
   "execution_count": 16,
   "id": "423ebdee",
   "metadata": {},
   "outputs": [
    {
     "data": {
      "text/plain": [
       "'Interpol2005'"
      ]
     },
     "execution_count": 16,
     "metadata": {},
     "output_type": "execute_result"
    }
   ],
   "source": [
    "password"
   ]
  },
  {
   "cell_type": "code",
   "execution_count": 17,
   "id": "b6cf5127",
   "metadata": {},
   "outputs": [
    {
     "data": {
      "text/plain": [
       "[['s', '2', 'l', 'A', '5', 'Q', 'n'],\n",
       " ['s', '2', 'm', 'S', 'f', 'Q', 'n'],\n",
       " ['s', '2', 'l', 'A', 'f', 'Q', 'n'],\n",
       " ['s', '2', 'm', 'S', 'f', 'Q', 'n'],\n",
       " ['s', '2', 'l', 'A', 'f', 'Q', '2'],\n",
       " ['s', '2', 'l', 'A', 'f', 'Q', 'n'],\n",
       " ['s', '2', 'l', 'A', '5', 'Q', 'n'],\n",
       " ['s', '2', 'l', 'A', 'f', 'Q', 'n'],\n",
       " ['s', '2', 'm', 'S', 'f', 'Q', 'n'],\n",
       " ['s', '2', 'l', 'A', 'f', 'Q', 'n']]"
      ]
     },
     "execution_count": 17,
     "metadata": {},
     "output_type": "execute_result"
    }
   ],
   "source": [
    "population"
   ]
  },
  {
   "cell_type": "code",
   "execution_count": null,
   "id": "18c551b4",
   "metadata": {},
   "outputs": [],
   "source": []
  }
 ],
 "metadata": {
  "kernelspec": {
   "display_name": "Python 3",
   "language": "python",
   "name": "python3"
  },
  "language_info": {
   "codemirror_mode": {
    "name": "ipython",
    "version": 3
   },
   "file_extension": ".py",
   "mimetype": "text/x-python",
   "name": "python",
   "nbconvert_exporter": "python",
   "pygments_lexer": "ipython3",
   "version": "3.12.9"
  }
 },
 "nbformat": 4,
 "nbformat_minor": 5
}
