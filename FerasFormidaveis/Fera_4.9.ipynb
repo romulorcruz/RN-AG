{
 "cells": [
  {
   "cell_type": "markdown",
   "id": "4602b16a",
   "metadata": {},
   "source": [
    "A senha de tamanho variável\n",
    "Objetivo: Resolver o problema da senha de forma que você não forneça a informação\n",
    "do tamanho da senha para a função que gera a população. Considere que a senha pode\n",
    "ser uma string de 1 até 30 caracteres.\n",
    "Dica: A função objetivo terá que quantificar em sua métrica tanto se o candidato\n",
    "acertou as letras quanto se acertou o tamanho da senha.\n",
    "8\n",
    "Dica 2: Você pode criar diferentes estratégias de mutação, não precisa ser apensa\n",
    "uma! Quem sabe uma função de mutação pode alterar letras e a outra pode alterar o\n",
    "tamanho da senha? Ver o exercício “Praticamente um X-man!”.\n",
    "Dica 3: Observe que você terá que pensar um pouco sobre como fará o cruzamento no\n",
    "caso de senhas de tamanhos diferentes. Quem sabe tenha que fazer alguma consideração\n",
    "adicional sobre quais são os valores possíveis para o ponto de corte…"
   ]
  },
  {
   "cell_type": "code",
   "execution_count": 21,
   "id": "10d3eec8",
   "metadata": {},
   "outputs": [
    {
     "data": {
      "text/plain": [
       "['a', 'r', 'r', 'e', 's', 'h', 'd', 'k', 7, 3, 6, 7]"
      ]
     },
     "execution_count": 21,
     "metadata": {},
     "output_type": "execute_result"
    }
   ],
   "source": [
    "senha"
   ]
  },
  {
   "cell_type": "code",
   "execution_count": null,
   "id": "9279b878",
   "metadata": {},
   "outputs": [],
   "source": [
    "# Funções que gerarão os nossos indivíduos\n",
    "def generate_gene(possibilities: list):\n",
    "    return rd.choice(possibilities)\n",
    "\n",
    "def generate_individue(c_size: int, possibilities: list):\n",
    "    return [generate_gene(possibilities) for _ in range(c_size)]\n",
    "\n",
    "def generate_population(p_size:int, c_size:int, possibilities:list):\n",
    "    return [generate_individue(c_size,possibilities) for _ in range(p_size)]"
   ]
  },
  {
   "cell_type": "code",
   "execution_count": 3,
   "id": "fe594d5a",
   "metadata": {},
   "outputs": [],
   "source": [
    "def generate_population(p_size:int, c_size:int, possibilities:list):\n",
    "    return [[rd.choice(possibilities) for _ in range(c_size) ] for _ in range(p_size)]"
   ]
  },
  {
   "cell_type": "code",
   "execution_count": 6,
   "id": "c0bc6f2f",
   "metadata": {},
   "outputs": [],
   "source": [
    "def objetive_function_counts(password, shot):\n",
    "    count = 0\n",
    "    for char_password, char_shot in zip(password,shot):\n",
    "        count += char_password != char_shot\n",
    "    return count\n",
    "\n",
    "def objetive_function_distace(password, shot):\n",
    "    distance = 0\n",
    "    for char_password, char_shot in zip(password,shot):\n",
    "        distance += abs(ord(char_password) - ord(char_shot))\n",
    "    return distance\n",
    "\n",
    "def objetive_function(password, shot):\n",
    "    distance = 0\n",
    "    count = 0\n",
    "    for char_password, char_shot in zip(password,shot):\n",
    "        distance += abs(ord(char_password) - ord(char_shot))\n",
    "        count += char_password != char_shot\n",
    "    return distance, count\n",
    "\n",
    "def pop_fitness(population, password):\n",
    "    return [objetive_function(individue, password) for individue in population]\n"
   ]
  },
  {
   "cell_type": "code",
   "execution_count": 7,
   "id": "8b6c077d",
   "metadata": {},
   "outputs": [
    {
     "data": {
      "text/plain": [
       "[(2, 1), (22, 3)]"
      ]
     },
     "execution_count": 7,
     "metadata": {},
     "output_type": "execute_result"
    }
   ],
   "source": [
    "pop_fitness([['I','n','v'],['T','e','r']], senha1)"
   ]
  },
  {
   "cell_type": "code",
   "execution_count": null,
   "id": "9c2217b5",
   "metadata": {},
   "outputs": [],
   "source": [
    "def candidates(population, fitness):\n",
    "    rd.sample(population = )\n",
    "\n",
    "    \n",
    "\n",
    "def crossing():\n",
    "\n",
    "def mutation():"
   ]
  }
 ],
 "metadata": {
  "kernelspec": {
   "display_name": "Python 3",
   "language": "python",
   "name": "python3"
  },
  "language_info": {
   "codemirror_mode": {
    "name": "ipython",
    "version": 3
   },
   "file_extension": ".py",
   "mimetype": "text/x-python",
   "name": "python",
   "nbconvert_exporter": "python",
   "pygments_lexer": "ipython3",
   "version": "3.12.9"
  }
 },
 "nbformat": 4,
 "nbformat_minor": 5
}
