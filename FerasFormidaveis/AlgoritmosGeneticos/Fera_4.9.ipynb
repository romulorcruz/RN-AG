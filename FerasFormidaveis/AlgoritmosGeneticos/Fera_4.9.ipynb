{
 "cells": [
  {
   "cell_type": "markdown",
   "id": "eca7ccee",
   "metadata": {},
   "source": [
    "## Fera Formidável 4.9\n",
    "\n",
    "### A senha de tamanho variável\n",
    "#### Rômulo 24024"
   ]
  },
  {
   "cell_type": "markdown",
   "id": "d10ea9ca",
   "metadata": {},
   "source": [
    "### Enunciado:\n",
    "**Objetivo:** Resolver o problema da senha de forma que você não forneça a informação\n",
    "do tamanho da senha para a função que gera a população. Considere que a senha pode\n",
    "ser uma string de 1 até 30 caracteres.\n",
    "\n",
    "**Dica:** A função objetivo terá que quantificar em sua métrica tanto se o candidato\n",
    "acertou as letras quanto se acertou o tamanho da senha.\n",
    "\n",
    "**Dica 2:** Você pode criar diferentes estratégias de mutação, não precisa ser apensa\n",
    "uma! Quem sabe uma função de mutação pode alterar letras e a outra pode alterar o\n",
    "tamanho da senha? Ver o exercício “Praticamente um X-man!”.\n",
    "\n",
    "**Dica 3:** Observe que você terá que pensar um pouco sobre como fará o cruzamento no\n",
    "caso de senhas de tamanhos diferentes. Quem sabe tenha que fazer alguma consideração\n",
    "adicional sobre quais são os valores possíveis para o ponto de corte…\n",
    "\n",
    "#### Guia da Aventura:\n",
    "Vamos treinar dois algoritmos genéticos para resolvermos o problema da senha, um para acharmos o comprimento da senha, outro para descobrirmos a senha.\n",
    "\n",
    "Para isso vamos definir bem nossos hiperparâmetros, e usaremos estratégias diferentes para resolver. \n",
    "\n",
    "Vamos ter que computar funções objetivos diferentes em cada algoritmo, pois trabalharam com classes diferentes. Ambos problemas serão de minimização com menor fitness possíevel igual a 0, pois trabalharemos com as diferenças entre os indivíduos e o tamanho da senha e a senha escrita.\n",
    "\n",
    "Vamos usar o código functions desenvolvido por mim, com base no código original do Cassar (consultar READ.ME do functions.py) com operações de algoritmos genéticos em Python Puro."
   ]
  },
  {
   "cell_type": "markdown",
   "id": "48f2b971",
   "metadata": {},
   "source": [
    "Imports necessários:"
   ]
  },
  {
   "cell_type": "code",
   "execution_count": null,
   "id": "50d08c90",
   "metadata": {},
   "outputs": [],
   "source": [
    "import functions as f # funções\n",
    "from string import ascii_lowercase, ascii_uppercase, digits # caracteres"
   ]
  },
  {
   "cell_type": "markdown",
   "id": "bc8efcc1",
   "metadata": {},
   "source": [
    "Vamos trabalhar com caracteres de digitos, e letras maiúsculas e minúsculas.\n",
    "Vamos criar uma lista de números de 1 a 30 para achar o tamanho da senha."
   ]
  },
  {
   "cell_type": "code",
   "execution_count": null,
   "id": "502e807b",
   "metadata": {},
   "outputs": [],
   "source": [
    "char_possibilities = [charactere for charactere in (ascii_lowercase + ascii_uppercase + digits)]\n",
    "number_possibilities = range(1,31)\n",
    "\n",
    "password = 'Interpol2005' # Senha com a melhor banda e o melhor ano"
   ]
  },
  {
   "cell_type": "markdown",
   "id": "1407a122",
   "metadata": {},
   "source": [
    "Definindo os hiperparâmetros para o algoritmo genético do comprimento da senha:"
   ]
  },
  {
   "cell_type": "code",
   "execution_count": null,
   "id": "696e4363",
   "metadata": {},
   "outputs": [],
   "source": [
    "p_size = 20 # tamanho da população\n",
    "c_size = 1 # tamanho do cromossomo\n",
    "c_rate = .5 # taxa de cruzamento\n",
    "m_rate = 0.3 # taxa de mutação\n",
    "\n",
    "population = f.generate_population(number_possibilities, p_size,c_size) # criando a população\n",
    "best_individue_general = float(\"inf\") # primeiro indivíduo sempre serar o melhor, problema de minimização de diferença\n",
    "gen = 0 # para printar as gerações"
   ]
  },
  {
   "cell_type": "markdown",
   "id": "fbbdd86b",
   "metadata": {},
   "source": [
    "Loop de gerações:"
   ]
  },
  {
   "cell_type": "code",
   "execution_count": null,
   "id": "471b82ea",
   "metadata": {},
   "outputs": [
    {
     "name": "stdout",
     "output_type": "stream",
     "text": [
      "1 17\n",
      "2 16\n",
      "3 10\n",
      "4 13\n",
      "5 13\n",
      "6 13\n",
      "7 13\n",
      "8 13\n",
      "9 13\n",
      "10 13\n",
      "11 12\n"
     ]
    }
   ],
   "source": [
    "# Algoritmo Genético para descobrir o tamanho da senha\n",
    "while best_individue_general != 0:\n",
    "    fitness = f.pop_password_fitness_count(population, len(password))  # calcula fitness (diferença entre chute e tamanho real)\n",
    "    selectioned = f.roulete_selectioning(population, fitness, p_size)  # seleção por roleta\n",
    "\n",
    "    next_gen_individues = []\n",
    "    # cruzamento\n",
    "    for father, mother in zip(selectioned[::2], selectioned[1::2]):\n",
    "        individue1, individue2 = f.uniform_crossover(father, mother, c_rate)  # cruzamento uniforme\n",
    "        next_gen_individues.append(individue1)\n",
    "        next_gen_individues.append(individue2)\n",
    "\n",
    "    next_population = f.Population(0, 0, number_possibilities)  # cria nova população com possibilidades de números\n",
    "    next_population.individues = next_gen_individues  # associa os indivíduos da nova geração\n",
    "\n",
    "    f.mutation(next_population, m_rate, number_possibilities)  # mutação nos indivíduos (números)\n",
    "\n",
    "    population = next_population  # atualiza população\n",
    "    gen += 1  # incrementa geração\n",
    "\n",
    "    fitness = f.pop_password_fitness_count(population, len(password))  # recalcula fitness\n",
    "    best_individue = min(fitness)  # pega o melhor fitness da geração\n",
    "\n",
    "    if best_individue < best_individue_general:\n",
    "        best_individue_general = best_individue  # atualiza o melhor global\n",
    "        indice = fitness.index(best_individue)  # encontra o índice do melhor\n",
    "        candidato = population.individues[indice]  # pega o melhor indivíduo\n",
    "    print(gen, candidato.get_values()[0])  # imprime geração e melhor chute de tamanho\n",
    "\n",
    "password_len = candidato.get_values()[0]  # salva o melhor chute de tamanho para usar na próxima etapa"
   ]
  },
  {
   "cell_type": "markdown",
   "id": "3659dfbb",
   "metadata": {},
   "source": [
    "Agora vamos associar os hiperparâmetros do nosso novo algoritmo:"
   ]
  },
  {
   "cell_type": "code",
   "execution_count": null,
   "id": "0d55ef50",
   "metadata": {},
   "outputs": [],
   "source": [
    "p_size = 20\n",
    "c_size = password_len # Perceba que o número de cromossomos é igual ao tamanho da senha que descobrimos\n",
    "c_rate = .5\n",
    "m_rate = 0.3\n",
    "\n",
    "population = f.generate_population(char_possibilities, p_size,c_size)\n",
    "best_individue_general = float(\"inf\")\n",
    "gen = 0\n"
   ]
  },
  {
   "cell_type": "markdown",
   "id": "c5c9609c",
   "metadata": {},
   "source": [
    "Agora vamos fazer o loop das gerações do nosso novo algoritmo:"
   ]
  },
  {
   "cell_type": "code",
   "execution_count": null,
   "id": "973ecab7",
   "metadata": {},
   "outputs": [
    {
     "name": "stdout",
     "output_type": "stream",
     "text": [
      "1 drs9LwFd9BA4\n",
      "2 CkMTNyrh3q0R\n",
      "3 CksTLwrh9B0R\n",
      "5 Crxzwyrd3B3J\n",
      "7 CrsbNyrd330N\n",
      "8 Jrsbvyrd933R\n",
      "13 JksbvwrdGB34\n",
      "14 Jrsbvqrj9B34\n",
      "23 Grsbvqrd2B04\n",
      "24 Jrsbvqod2B04\n",
      "26 Grsbvqoj2B34\n",
      "27 Jrsbvqrj2B04\n",
      "29 Grsbvqoj2B04\n",
      "30 Jrsbvqoj2B04\n",
      "51 Grsbvqoj2704\n",
      "106 Grsioqok2105\n",
      "151 Gmshtqok2505\n",
      "155 Gmshtqok2405\n",
      "156 Hmshtsok2205\n",
      "183 Gmudnpol2405\n",
      "192 Gmuenpol2405\n",
      "200 Gmudqpok2405\n",
      "205 Gmudqpol2405\n",
      "222 Gmudrpol2405\n",
      "230 Jmudrpol2405\n",
      "237 Gmudrpol2005\n",
      "462 Imuerqol2105\n",
      "790 Inuerool2105\n",
      "801 Interool2105\n",
      "2727 Interpol2004\n",
      "2947 Interpol2005\n"
     ]
    }
   ],
   "source": [
    "# Algoritmo Genético para descobrir a senha (com tamanho já estimado)\n",
    "while best_individue_general != 0:\n",
    "    fitness = f.pop_password_fitness(population, password)  # calcula fitness dos indivíduos (diferença para a senha)\n",
    "    selectioned = f.tournment_selectioning(population, fitness, p_size)  # seleção por torneio\n",
    "\n",
    "    next_gen_individues = []\n",
    "    # cruzamento\n",
    "    for father, mother in zip(selectioned[::2], selectioned[1::2]):\n",
    "        individue1, individue2 = f.uniform_crossover(father, mother, c_rate)  # cruzamento uniforme\n",
    "        next_gen_individues.append(individue1)\n",
    "        next_gen_individues.append(individue2)\n",
    "\n",
    "    next_population = f.Population(0, 0, char_possibilities)  # gerando a próxima população com nossa classe\n",
    "    next_population.individues = next_gen_individues  # associando os indivíduos da nova geração\n",
    "\n",
    "    f.mutation(next_population, m_rate, char_possibilities)  # mutação nos indivíduos\n",
    "\n",
    "    population = next_population\n",
    "    gen += 1  # atualiza a geração\n",
    "\n",
    "    fitness = f.pop_password_fitness(population, password)  # recalcula fitness\n",
    "    best_individue = min(fitness)  # pega o melhor fitness da geração\n",
    "\n",
    "    if best_individue < best_individue_general:\n",
    "        best_individue_general = best_individue  # atualiza o melhor global\n",
    "        indice = fitness.index(best_individue)  # encontra o índice do melhor\n",
    "        candidato = population.individues[indice]  # pega o melhor indivíduo\n",
    "        print(gen, \"\".join(str(x) for x in candidato.get_values()))  # imprime geração e senha candidata"
   ]
  },
  {
   "cell_type": "markdown",
   "id": "b5803122",
   "metadata": {},
   "source": [
    "### Conclusão:\n",
    "\n",
    "O algoritmo genético conseguiu descobrir a senha, optei pela abprdagem de não seguir as dicas, pois percebi que esta abordagem seguia de acordo com os requisitos do enunciado e é mais eficiente. Podemos futuramente comprovar isto através de análise das duas abordagens. Desta forma, trabalhamos com duas otimizações, que buscavam minimização e conhecíamos que no caso ideal o fitness daria zero. Esta fera serviu como base da criação do script functions.py, e todas as funções se mostraram satisfatórias para resolução do problema. No entanto, analisei algumas inconformidades que devem ser corrigidas futuramente, para melhor generalização do script, por exemplo trabalhar com maximização e adicionar especificidade nas funções, tanto em suas descrições, como através de 'assert' para impedir possíveis erros."
   ]
  },
  {
   "cell_type": "markdown",
   "id": "db602b5f",
   "metadata": {},
   "source": [
    "### Referências\n",
    "- Dr. Cassar, Daniel R. - Material da disciplina Redes Neurais e Algoritmos Genéticos. Obtidos em: 2025"
   ]
  }
 ],
 "metadata": {
  "kernelspec": {
   "display_name": "Python 3",
   "language": "python",
   "name": "python3"
  },
  "language_info": {
   "codemirror_mode": {
    "name": "ipython",
    "version": 3
   },
   "file_extension": ".py",
   "mimetype": "text/x-python",
   "name": "python",
   "nbconvert_exporter": "python",
   "pygments_lexer": "ipython3",
   "version": "3.12.9"
  }
 },
 "nbformat": 4,
 "nbformat_minor": 5
}
