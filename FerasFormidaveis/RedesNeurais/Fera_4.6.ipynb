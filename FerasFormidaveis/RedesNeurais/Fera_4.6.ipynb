{
 "cells": [
  {
   "cell_type": "markdown",
   "id": "dec1dcb1",
   "metadata": {},
   "source": [
    "## Fera Formidável 4.6\n",
    "### E se meus dados forem imagens?\n",
    "#### Rômulo 24024\n",
    "### Enunciado:\n",
    "**Objetivo:** implementar uma rede neural convolucional (CNN) utilizando PyTorch ou\n",
    "lightning. Treine esta rede neural em um conjunto de dados de imagens. Explique para\n",
    "o leitor como funciona a camada de convolução de uma CNN e o motivo de utilizarmos\n",
    "este tipo de arquitetura quando estudamos imagens."
   ]
  },
  {
   "cell_type": "markdown",
   "id": "1b578f18",
   "metadata": {},
   "source": [
    "### Introdução:\n",
    "CNN é a sigla para Rede Neural Convolucional(Convolutional Neural Network). É uma rede usada principalmente com imagens. A ideia é simples: ao invés de ligar todos os neurônios entre si (como numa MLP), ela usa filtros pequenos que percorrem a imagem e extraem padrões locais. Isso é a convolução.\n",
    "\n",
    "Esses filtros, chamados kernels, são matrizes com valores que a rede aprende sozinha durante o treinamento. Cada filtro busca um tipo de padrão – uma borda, uma textura, etc. O filtro anda pela imagem e calcula multiplicações ponto a ponto. Isso gera um novo “mapa” com os resultados.\n",
    "\n",
    "Dois parâmetros controlam isso:\n",
    "\n",
    "- **Padding:** adiciona bordas artificiais na imagem, pra que o filtro consiga olhar também os cantos. Sem isso, as bordas são ignoradas.\n",
    "\n",
    "- **Stride:** define de quantos pixels em quantos o filtro se move. Quanto maior o stride, menor a saída.\n",
    "\n",
    "Depois da convolução, geralmente vem o pooling, que resume a informação e diminui o tamanho dos dados. Os dois tipos mais comuns são:\n",
    "\n",
    "- **Max pooling:** pega o maior valor numa região.\n",
    "\n",
    "- **Average pooling:** faz a média dos valores.\n",
    "\n",
    "No final, a CNN conecta tudo numa camada totalmente conectada. Aí sim cada neurônio fala com todos os da próxima camada, como numa MLP. Essa parte final é a que toma a decisão – classifica a imagem, por exemplo.\n",
    "\n",
    "A CNN também usa funções de ativação, como a ReLU. Ela zera os valores negativos e ajuda a rede a lidar com relações não lineares."
   ]
  },
  {
   "cell_type": "markdown",
   "id": "fe2b0746",
   "metadata": {},
   "source": [
    "#### Imports necessários:"
   ]
  },
  {
   "cell_type": "code",
   "execution_count": 1,
   "id": "682ee567",
   "metadata": {},
   "outputs": [],
   "source": [
    "import torch\n",
    "import torch.nn as nn\n",
    "import torch.nn.functional as F\n",
    "from torch.utils.data import DataLoader\n",
    "from torchvision import datasets, transforms\n",
    "import matplotlib.pyplot as plt"
   ]
  },
  {
   "cell_type": "markdown",
   "id": "4d0c5377",
   "metadata": {},
   "source": [
    "Temos que definir um transpose, para quando pegarmos os dados, dimensioná-los e transformalos em tensor."
   ]
  },
  {
   "cell_type": "code",
   "execution_count": 2,
   "id": "01f36b68",
   "metadata": {},
   "outputs": [],
   "source": [
    "transform = transforms.Compose([\n",
    "    transforms.Resize((128, 128)),\n",
    "    transforms.RandomHorizontalFlip(),\n",
    "    transforms.ToTensor(),\n",
    "    transforms.Normalize([0.485, 0.456, 0.406], [0.229, 0.224, 0.225])\n",
    "])"
   ]
  },
  {
   "cell_type": "markdown",
   "id": "6ff4f2bd",
   "metadata": {},
   "source": [
    "Agora podemos obter os dados de treino e de teste:"
   ]
  },
  {
   "cell_type": "code",
   "execution_count": 3,
   "id": "dedc3f51",
   "metadata": {},
   "outputs": [],
   "source": [
    "dados_treino = datasets.OxfordIIITPet(root='/cnn_data', split='trainval', download=True, transform=transform)"
   ]
  },
  {
   "cell_type": "code",
   "execution_count": 4,
   "id": "f40d6da1",
   "metadata": {},
   "outputs": [],
   "source": [
    "dados_teste = datasets.OxfordIIITPet(root='/cnn_data', split='test', download=True, transform=transform)"
   ]
  },
  {
   "cell_type": "markdown",
   "id": "e227e29a",
   "metadata": {},
   "source": [
    "Vamos definir o loader para dividirmos os dados em lote, os dados de treino devem ser sorteados com shuffle, já os de teste não."
   ]
  },
  {
   "cell_type": "code",
   "execution_count": 5,
   "id": "c7166035",
   "metadata": {},
   "outputs": [],
   "source": [
    "loader_treino = DataLoader(dados_treino, batch_size=32, shuffle=True)\n",
    "loader_teste = DataLoader(dados_teste, batch_size=32, shuffle=False)"
   ]
  },
  {
   "cell_type": "markdown",
   "id": "25f7eb02",
   "metadata": {},
   "source": [
    "Vamos agora criar a classe do nosso modelo de CNN, já podemos criar todas as camadas, seja as de convolução ou totalmente conectadas e também a função de pooling padrão."
   ]
  },
  {
   "cell_type": "code",
   "execution_count": 6,
   "id": "8fda83aa",
   "metadata": {},
   "outputs": [],
   "source": [
    "class CNN(nn.Module):\n",
    "    def __init__(self):\n",
    "        super().__init__()\n",
    "        # Camadas convulocionais, 3 dados de entrada que correspondem aos valores do pixel na escala RGB\n",
    "        self.camada_conv1 = nn.Conv2d(3, 32, kernel_size=3, stride=1, padding=1)\n",
    "        self.camada_conv2 = nn.Conv2d(32, 64, kernel_size=3, stride=1, padding=1)\n",
    "        self.camada_conv3 = nn.Conv2d(64, 128, kernel_size=3, stride=1, padding=1)\n",
    "\n",
    "        # Definir o nosso pooling padrão\n",
    "        self.pool = nn.MaxPool2d(kernel_size=2, stride=2)\n",
    "\n",
    "        # Taxa de dropout\n",
    "        self.dropout = nn.Dropout(0.5)\n",
    "\n",
    "        # Definindo um Batchnorm\n",
    "        self.bn1 = nn.BatchNorm2d(32)\n",
    "\n",
    "        # As camadas totalmente conectadas\n",
    "        self.camada_tc1 = nn.Linear(128 * 16 * 16, 512)\n",
    "        self.camada_tc2 = nn.Linear(512, 128)\n",
    "        self.camada_tc3 = nn.Linear(128, 37)\n",
    "\n",
    "    def forward(self, x):\n",
    "        x = self.pool(F.relu(self.bn1(self.camada_conv1(x))))\n",
    "        x = self.pool(F.relu(self.camada_conv2(x)))\n",
    "        x = self.pool(F.relu(self.camada_conv3(x)))\n",
    "        x = torch.flatten(x, 1) # Flatten antes das camadas totalmente conectadas\n",
    "        x = self.dropout(F.relu(self.camada_tc1(x)))\n",
    "        x = self.dropout(F.relu(self.camada_tc2(x)))\n",
    "        return self.camada_tc3(x)"
   ]
  },
  {
   "cell_type": "markdown",
   "id": "04fe6302",
   "metadata": {},
   "source": [
    "Vamos criar um modelo padrão com seed para tornar os resultados reprodutíveis."
   ]
  },
  {
   "cell_type": "code",
   "execution_count": 7,
   "id": "0671883a",
   "metadata": {},
   "outputs": [
    {
     "data": {
      "text/plain": [
       "CNN(\n",
       "  (camada_conv1): Conv2d(3, 32, kernel_size=(3, 3), stride=(1, 1), padding=(1, 1))\n",
       "  (camada_conv2): Conv2d(32, 64, kernel_size=(3, 3), stride=(1, 1), padding=(1, 1))\n",
       "  (camada_conv3): Conv2d(64, 128, kernel_size=(3, 3), stride=(1, 1), padding=(1, 1))\n",
       "  (pool): MaxPool2d(kernel_size=2, stride=2, padding=0, dilation=1, ceil_mode=False)\n",
       "  (dropout): Dropout(p=0.5, inplace=False)\n",
       "  (bn1): BatchNorm2d(32, eps=1e-05, momentum=0.1, affine=True, track_running_stats=True)\n",
       "  (camada_tc1): Linear(in_features=32768, out_features=512, bias=True)\n",
       "  (camada_tc2): Linear(in_features=512, out_features=128, bias=True)\n",
       "  (camada_tc3): Linear(in_features=128, out_features=37, bias=True)\n",
       ")"
      ]
     },
     "execution_count": 7,
     "metadata": {},
     "output_type": "execute_result"
    }
   ],
   "source": [
    "torch.manual_seed(77) # Tornar resultados reprodutíveis\n",
    "modelo = CNN() \n",
    "modelo"
   ]
  },
  {
   "cell_type": "markdown",
   "id": "60ee1bf0",
   "metadata": {},
   "source": [
    "Vamos definir também a nossa função de perda, como se trata de um algoritmo de classificação, será a Perda de Entropia Cruzada. E o método de otimização estocástico Adam."
   ]
  },
  {
   "cell_type": "code",
   "execution_count": 8,
   "id": "42fe44a2",
   "metadata": {},
   "outputs": [],
   "source": [
    "criterio = nn.CrossEntropyLoss()\n",
    "otimizador = torch.optim.Adam(modelo.parameters(), lr=0.0005)"
   ]
  },
  {
   "cell_type": "markdown",
   "id": "0d6bfc5d",
   "metadata": {},
   "source": [
    "Agora vamos treinar o nosso modelo. Vamos também analisar o tempo total levado no treinamento."
   ]
  },
  {
   "cell_type": "code",
   "execution_count": 9,
   "id": "10fa9f68",
   "metadata": {},
   "outputs": [
    {
     "name": "stdout",
     "output_type": "stream",
     "text": [
      "Época: 1/17 | Perda treino: 3.6170 | Perda teste: 3.6096 | Acertos treino: 120 | Acertos teste: 148\n",
      "Época: 2/17 | Perda treino: 3.5743 | Perda teste: 3.4775 | Acertos treino: 163 | Acertos teste: 237\n",
      "Época: 3/17 | Perda treino: 3.4770 | Perda teste: 3.4017 | Acertos treino: 203 | Acertos teste: 303\n",
      "Época: 4/17 | Perda treino: 3.4264 | Perda teste: 3.3786 | Acertos treino: 250 | Acertos teste: 336\n",
      "Época: 5/17 | Perda treino: 3.3601 | Perda teste: 3.3079 | Acertos treino: 317 | Acertos teste: 386\n",
      "Época: 6/17 | Perda treino: 3.3141 | Perda teste: 3.2725 | Acertos treino: 337 | Acertos teste: 392\n",
      "Época: 7/17 | Perda treino: 3.2357 | Perda teste: 3.1890 | Acertos treino: 401 | Acertos teste: 441\n",
      "Época: 8/17 | Perda treino: 3.1656 | Perda teste: 3.1385 | Acertos treino: 466 | Acertos teste: 499\n",
      "Época: 9/17 | Perda treino: 3.0444 | Perda teste: 3.0667 | Acertos treino: 543 | Acertos teste: 534\n",
      "Época: 10/17 | Perda treino: 2.9004 | Perda teste: 2.9818 | Acertos treino: 656 | Acertos teste: 618\n",
      "Época: 11/17 | Perda treino: 2.7302 | Perda teste: 2.9507 | Acertos treino: 809 | Acertos teste: 648\n",
      "Época: 12/17 | Perda treino: 2.5487 | Perda teste: 2.9718 | Acertos treino: 976 | Acertos teste: 632\n",
      "Época: 13/17 | Perda treino: 2.3745 | Perda teste: 2.9092 | Acertos treino: 1144 | Acertos teste: 702\n",
      "Época: 14/17 | Perda treino: 2.1560 | Perda teste: 2.8765 | Acertos treino: 1342 | Acertos teste: 701\n",
      "Época: 15/17 | Perda treino: 1.9235 | Perda teste: 3.0640 | Acertos treino: 1619 | Acertos teste: 690\n",
      "Época: 16/17 | Perda treino: 1.7477 | Perda teste: 2.9746 | Acertos treino: 1750 | Acertos teste: 750\n",
      "Época: 17/17 | Perda treino: 1.5954 | Perda teste: 3.0075 | Acertos treino: 1902 | Acertos teste: 707\n",
      "Tempo total de treino: 37.78734625975291 minutos\n"
     ]
    }
   ],
   "source": [
    "import time\n",
    "tempo_inicial = time.time()\n",
    "\n",
    "epocas = 17\n",
    "perda_treinos = []\n",
    "perda_testes = []\n",
    "acertos_treino = []\n",
    "acertos_teste = []\n",
    "\n",
    "for epoca in range(epocas):\n",
    "    modelo.train()\n",
    "    treino_certos = 0\n",
    "    soma_perda_treino = 0\n",
    "    total_treino = 0\n",
    "\n",
    "    for X_treino, y_treino in loader_treino:\n",
    "        y_pred = modelo(X_treino)\n",
    "        perda = criterio(y_pred, y_treino)\n",
    "        predicao = torch.max(y_pred.data, 1)[1]\n",
    "        treino_certos += (predicao == y_treino).sum().item()\n",
    "        soma_perda_treino += perda.item() * X_treino.size(0)\n",
    "        total_treino += X_treino.size(0)\n",
    "\n",
    "        otimizador.zero_grad()\n",
    "        perda.backward()\n",
    "        otimizador.step()\n",
    "\n",
    "    perda_treinos.append(soma_perda_treino / total_treino)\n",
    "    acertos_treino.append(treino_certos)\n",
    "\n",
    "    modelo.eval()\n",
    "    teste_certos = 0\n",
    "    soma_perda_teste = 0\n",
    "    total_teste = 0\n",
    "    with torch.no_grad():\n",
    "        for X_teste, y_teste in loader_teste:\n",
    "            y_val = modelo(X_teste)\n",
    "            predicao = torch.max(y_val.data, 1)[1]\n",
    "            teste_certos += (predicao == y_teste).sum().item()\n",
    "            soma_perda_teste += criterio(y_val, y_teste).item() * X_teste.size(0)\n",
    "            total_teste += X_teste.size(0)\n",
    "\n",
    "    perda_testes.append(soma_perda_teste / total_teste)\n",
    "    acertos_teste.append(teste_certos)\n",
    "\n",
    "    print(f\"Época: {epoca+1}/{epocas} | Perda treino: {perda_treinos[-1]:.4f} | Perda teste: {perda_testes[-1]:.4f} | Acertos treino: {treino_certos} | Acertos teste: {teste_certos}\")\n",
    "\n",
    "tempo_total = time.time() - tempo_inicial\n",
    "print(f'Tempo total de treino: {tempo_total / 60} minutos')"
   ]
  },
  {
   "cell_type": "code",
   "execution_count": null,
   "id": "38af8a05",
   "metadata": {},
   "outputs": [
    {
     "data": {
      "image/png": "[encoded data removed]",
      "text/plain": [
       "<Figure size 640x480 with 1 Axes>"
      ]
     },
     "metadata": {},
     "output_type": "display_data"
    }
   ],
   "source": [
    "plt.plot(perda_treinos, label='Perda dados de treino')\n",
    "plt.plot(perda_testes, label ='Perda dados de teste')\n",
    "plt.legend(['a'])\n",
    "plt.title('Gráfico de Perda')\n",
    "plt.show()"
   ]
  },
  {
   "cell_type": "code",
   "execution_count": 11,
   "id": "7e467dd0",
   "metadata": {},
   "outputs": [
    {
     "data": {
      "text/plain": [
       "Text(0.5, 1.0, 'Acurácia do modelo em porcentagem')"
      ]
     },
     "execution_count": 11,
     "metadata": {},
     "output_type": "execute_result"
    },
    {
     "data": {
      "image/png": "[encoded data removed]",
      "text/plain": [
       "<Figure size 640x480 with 1 Axes>"
      ]
     },
     "metadata": {},
     "output_type": "display_data"
    }
   ],
   "source": [
    "taxa_acerto_treino = [acerto*100/len(dados_teste) for acerto in acertos_treino]\n",
    "taxa_acerto_teste = [acerto*100/len(dados_teste) for acerto in acertos_teste]\n",
    "\n",
    "plt.plot(taxa_acerto_treino, label='Acurácia dados de treino')\n",
    "plt.plot(taxa_acerto_teste, label='Acurácia dados de teste')\n",
    "plt.ylabel('Taxa de acerto(%)')\n",
    "plt.title('Acurácia do modelo em porcentagem')"
   ]
  },
  {
   "cell_type": "markdown",
   "id": "7cad5930",
   "metadata": {},
   "source": [
    "#### Conclusão:\n",
    "O modelo se mostrou relativamente eficiente para a classificação das imagens, a acurácia do teste foi muito superior a 1/37, porém ainda é uma acurácia baixa, como estamos trabalhando com 37 rótulos, e algumas raças de gatos podem ser muito parecidas, me parece um bom resultado. Tentei adicionar robustez ao modelo, mas tive custo computacional muito aumentado e pouco ganho de performance. No geral, podemos observar que o modelo para de progredir significativamente após a época 17 e a escolha do dropout foi bastante útil."
   ]
  },
  {
   "cell_type": "markdown",
   "id": "e09d4ab5",
   "metadata": {},
   "source": [
    "### Referências\n",
    "\n",
    "- Deep Learning With PyTorch. Playlist de vídeos sobre CNN.\n",
    "\n",
    "Disponível em: <http://www.youtube.com/playlist?list=PLCC34OHNcOtpcgR9LEYSdi9r7XIbpkpK1>\n",
    "\n",
    "‌\n",
    "- Classes da MLP em Python puro\n",
    "\n",
    " Obtidos em: ATP-303 NN 4.2 - Notebook MLP.ipynb"
   ]
  }
 ],
 "metadata": {
  "kernelspec": {
   "display_name": "Python 3",
   "language": "python",
   "name": "python3"
  },
  "language_info": {
   "codemirror_mode": {
    "name": "ipython",
    "version": 3
   },
   "file_extension": ".py",
   "mimetype": "text/x-python",
   "name": "python",
   "nbconvert_exporter": "python",
   "pygments_lexer": "ipython3",
   "version": "3.12.9"
  }
 },
 "nbformat": 4,
 "nbformat_minor": 5
}
