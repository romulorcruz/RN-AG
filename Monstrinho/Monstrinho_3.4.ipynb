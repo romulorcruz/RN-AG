{
 "cells": [
  {
   "cell_type": "markdown",
   "id": "921881e3",
   "metadata": {},
   "source": [
    "# Monstrinho 3.4-\n",
    "## $dunder$ \n",
    "####  Rômulo Emanuel Rabelo Cruz 24024"
   ]
  },
  {
   "cell_type": "markdown",
   "id": "bb45710e",
   "metadata": {},
   "source": [
    "### Enunciado:"
   ]
  },
  {
   "cell_type": "markdown",
   "id": "ab9e82cd",
   "metadata": {},
   "source": [
    "**Objetivo:** Se informe sobre métodos dunder que não foram utilizados no material de\n",
    "aula e crie uma classe que contenha pelo menos 3 destes métodos dunder. Faça códigos\n",
    "onde cada um destes métodos dunder seja acessado sem os chamar explicitamente (exem\u0002plo: não é para rodar a.__add__(b) mas sim a + b para o caso do dunder __add__).\n",
    "\n",
    "**Considerações do experimento:** A classe deve conter pelo menos 3 métodos dunder\n",
    "que não foram vistos no material da disciplina. Sua classe deve fazer sentido, isto é, não\n",
    "crie uma classe “sem pé nem cabeça” apenas para a entrega. Reflita sobre uma classe\n",
    "onde os métodos dunder propostos realmente fazem sentido. Na sua entrega, explique\n",
    "brevemente o que fazem os métodos dunder que escolheu e mostre eles em ação com uma\n",
    "instância da sua classe."
   ]
  },
  {
   "cell_type": "code",
   "execution_count": 1,
   "id": "30d799c0",
   "metadata": {},
   "outputs": [],
   "source": [
    "class Mês:\n",
    "    def __confere_ordem(self, objeto:str):\n",
    "        # Ordem dos meses que serão úteis para comparações baseadas em ordem de acontecimento\n",
    "        ordem = ['Janeiro','Fevereiro','Março','Abril','Maio','Junho','Julho','Agosto','Setembro','Outubro','Novembro','Dezembro']\n",
    "        for mes in ordem:\n",
    "            # Usei a função UPPER para garantir que as comparações ocorram corretamente\n",
    "            if objeto.upper() == mes.upper():\n",
    "                return ordem.index(mes)+1\n",
    "        return 'Mês inválido' # Esta linha será rodada somente se não houver nenhum retorno de mês anteriormente\n",
    "            \n",
    "    def __init__(self,numero:int, nome:str, duracao:int, ano: int):\n",
    "        '''\n",
    "        Instanciando os atributos do objeto 'Mês' \n",
    "        '''        \n",
    "        self.numero = numero # Número equivalente ao mês\n",
    "        self.nome = nome # Nome do mês por extenso\n",
    "        self.duracao = duracao # Número de dias do mês, uma implementação útil em relação ao código original\n",
    "        self.ano = ano # Ano em que o mês citado ocorreu, nem sempre será necessário ou utilizado\n",
    "        \n",
    "    def __eq__(self, outro_objeto):\n",
    "        if type(outro_objeto) == int and self.numero == outro_objeto: # Equivalência baseada no número como entrada\n",
    "            return True\n",
    "        elif type(outro_objeto) == str and self.nome.upper() == outro_objeto.upper(): # Equivalência baseada no nome como entrad\n",
    "            return True\n",
    "        elif type(outro_objeto) == Mês and self.numero == outro_objeto.numero and self.ano == outro_objeto.ano: \n",
    "        # Equivalência baseada no objeto Mês como entrada\n",
    "            return True\n",
    "        else:\n",
    "            return False\n",
    "        \n",
    "    def __lt__(self, outro_objeto):\n",
    "        if type(outro_objeto) == int and self.numero < outro_objeto: # Comparação baseada no número como entrada\n",
    "            return True\n",
    "        elif type(outro_objeto) == str and self.numero < self.__confere_ordem(outro_objeto): # Comparação baseada no nome como entrada\n",
    "            return True\n",
    "        elif type(outro_objeto) == Mês: # Comparação baseada no objeto Mês como entrada\n",
    "            if self.ano < outro_objeto.ano: # Se um objeto for do tipo Mês, podemos comparar diretamente o ano \n",
    "                return True\n",
    "            elif self.numero < outro_objeto.numero: # Comparando se o ano for igual\n",
    "                return True\n",
    "            else:\n",
    "                return False\n",
    "        else:\n",
    "            return False\n",
    "\n",
    "    def __gt__(self,outro_objeto):\n",
    "        if type(outro_objeto) == int and self.numero > outro_objeto: # Comparação baseada no número como entrada\n",
    "            return True\n",
    "        elif type(outro_objeto) == str and self.numero > self.__confere_ordem(outro_objeto): # Comparação baseada no nome como entrada\n",
    "            return True\n",
    "        elif type(outro_objeto) == Mês: # Comparação baseada no objeto Mês como entrada\n",
    "            if self.ano > outro_objeto.ano: # Se um objeto for do tipo Mês, podemos comparar diretamente o ano\n",
    "                return True\n",
    "            elif self.numero > outro_objeto.numero: # Comparando se o ano for igual\n",
    "                return True\n",
    "            else:\n",
    "                return False\n",
    "        else:\n",
    "            return False"
   ]
  },
  {
   "cell_type": "markdown",
   "id": "603c8f4d",
   "metadata": {},
   "source": [
    "### Métodos dunder:\n",
    "**Equivalência:** \n",
    "\n",
    "***Operador de igualdade ==***\n",
    "\n",
    "Se um número for equivalente ao número do mês, eles serão iguais. Se uma string for igual ao nome do mês, independentemente se seus caracteres são maiúsculos ou minúsculos, eles serão iguais. Se dois meses forem comparados, eles só serão iguais se pertencerem ao mesmo ano.\n",
    "\n",
    "**Ordenação:** \n",
    "\n",
    "***Operador maior que >***\n",
    "\n",
    "Se um número for maior que o número equivalente do mês, e for utilizado o operador maior que, retornará verdadeiro. Se uma string for comparada a um mês, ela retornará verdadeiro somente se existir um mês de nome equivalente e o número deste mês for maior que o número do mês comparado. Se um mês for comparado a outro mês "
   ]
  },
  {
   "cell_type": "markdown",
   "id": "7b9a68da",
   "metadata": {},
   "source": [
    "## Testes:"
   ]
  },
  {
   "cell_type": "markdown",
   "id": "2529f9dd",
   "metadata": {},
   "source": [
    "Objetos utilizados nos testes:"
   ]
  },
  {
   "cell_type": "code",
   "execution_count": 2,
   "id": "a083882b",
   "metadata": {},
   "outputs": [],
   "source": [
    "janeiro_2025 = Mês(1,'Janeiro',31,2025)\n",
    "janeiro_2026 = Mês(1,'Janeiro',31,2026)\n",
    "fevereiro_2025 = Mês(2,'Fevereiro',28,2025)"
   ]
  },
  {
   "cell_type": "markdown",
   "id": "e14d236d",
   "metadata": {},
   "source": [
    "### 1- Teste de equivalência:"
   ]
  },
  {
   "cell_type": "markdown",
   "id": "7cfe6ea1",
   "metadata": {},
   "source": [
    "**Teste 1.1:**\n",
    "\n",
    "Teste se janeiro_2025 é igual a um. \n",
    "\n",
    "Resultado esperado: True"
   ]
  },
  {
   "cell_type": "code",
   "execution_count": 3,
   "id": "9e36a996",
   "metadata": {},
   "outputs": [
    {
     "data": {
      "text/plain": [
       "True"
      ]
     },
     "execution_count": 3,
     "metadata": {},
     "output_type": "execute_result"
    }
   ],
   "source": [
    "1 == janeiro_2025 and janeiro_2025 == 1"
   ]
  },
  {
   "cell_type": "markdown",
   "id": "f433b93e",
   "metadata": {},
   "source": [
    "**Teste 1.2:**\n",
    "\n",
    "Teste se janeiro_2025 é igual a dois. \n",
    "\n",
    "Resultado esperado: False"
   ]
  },
  {
   "cell_type": "code",
   "execution_count": 4,
   "id": "c093c6ce",
   "metadata": {},
   "outputs": [
    {
     "data": {
      "text/plain": [
       "False"
      ]
     },
     "execution_count": 4,
     "metadata": {},
     "output_type": "execute_result"
    }
   ],
   "source": [
    "2 == janeiro_2025 or janeiro_2025 == 2"
   ]
  },
  {
   "cell_type": "markdown",
   "id": "4d2edd32",
   "metadata": {},
   "source": [
    "**Teste 1.3:**\n",
    "\n",
    "Teste se janeiro_2025 é igual a 'janEIRO'. \n",
    "\n",
    "Resultado esperado: True"
   ]
  },
  {
   "cell_type": "code",
   "execution_count": null,
   "id": "352c4200",
   "metadata": {},
   "outputs": [
    {
     "data": {
      "text/plain": [
       "True"
      ]
     },
     "execution_count": 5,
     "metadata": {},
     "output_type": "execute_result"
    }
   ],
   "source": [
    "'janEIRO' == janeiro_2025 and 'jaNEIRO' == janeiro_2025"
   ]
  },
  {
   "cell_type": "markdown",
   "id": "4bb7c6d1",
   "metadata": {},
   "source": [
    "**Teste 1.4:**\n",
    "\n",
    "Teste se janeiro_2025 é igual a 'fevereiro'. \n",
    "\n",
    "Resultado esperado: False"
   ]
  },
  {
   "cell_type": "code",
   "execution_count": 6,
   "id": "19b8bdc7",
   "metadata": {},
   "outputs": [
    {
     "data": {
      "text/plain": [
       "False"
      ]
     },
     "execution_count": 6,
     "metadata": {},
     "output_type": "execute_result"
    }
   ],
   "source": [
    "'fevereiro' == janeiro_2025 or 'fevereiro' == janeiro_2025"
   ]
  },
  {
   "cell_type": "markdown",
   "id": "ff89f289",
   "metadata": {},
   "source": [
    "**Teste 1.5:**\n",
    "\n",
    "Teste se janeiro_2025 é igual a janeiro_2025. \n",
    "\n",
    "Resultado esperado: True"
   ]
  },
  {
   "cell_type": "code",
   "execution_count": 7,
   "id": "9931a83b",
   "metadata": {
    "scrolled": true
   },
   "outputs": [
    {
     "data": {
      "text/plain": [
       "True"
      ]
     },
     "execution_count": 7,
     "metadata": {},
     "output_type": "execute_result"
    }
   ],
   "source": [
    "janeiro_2025 == janeiro_2025"
   ]
  },
  {
   "cell_type": "markdown",
   "id": "d4d1bd6b",
   "metadata": {},
   "source": [
    "**Teste 1.6:**\n",
    "\n",
    "Teste se janeiro_2025 é igual a janeiro_2026. \n",
    "\n",
    "Resultado esperado: False"
   ]
  },
  {
   "cell_type": "code",
   "execution_count": 8,
   "id": "5925bf53",
   "metadata": {
    "scrolled": true
   },
   "outputs": [
    {
     "data": {
      "text/plain": [
       "False"
      ]
     },
     "execution_count": 8,
     "metadata": {},
     "output_type": "execute_result"
    }
   ],
   "source": [
    "janeiro_2025 == janeiro_2026 or janeiro_2026 == janeiro_2025"
   ]
  },
  {
   "cell_type": "markdown",
   "id": "f38d19a4",
   "metadata": {},
   "source": [
    "### 2- Teste de ordenabilidade:"
   ]
  },
  {
   "cell_type": "markdown",
   "id": "d71af9d2",
   "metadata": {},
   "source": [
    "**Teste 2.1:**\n",
    "\n",
    "Teste se fevereiro_2025 é maior 1. \n",
    "\n",
    "Resultado esperado: True"
   ]
  },
  {
   "cell_type": "code",
   "execution_count": 9,
   "id": "a4144301",
   "metadata": {},
   "outputs": [
    {
     "data": {
      "text/plain": [
       "True"
      ]
     },
     "execution_count": 9,
     "metadata": {},
     "output_type": "execute_result"
    }
   ],
   "source": [
    "fevereiro_2025 > 1 and 1 < fevereiro_2025"
   ]
  },
  {
   "cell_type": "markdown",
   "id": "7a1ea4a6",
   "metadata": {},
   "source": [
    "**Teste 2.2:**\n",
    "\n",
    "Teste se fevereiro_2025 é maior que 3. \n",
    "\n",
    "Resultado esperado: False"
   ]
  },
  {
   "cell_type": "code",
   "execution_count": 10,
   "id": "0bf62bf5",
   "metadata": {},
   "outputs": [
    {
     "data": {
      "text/plain": [
       "False"
      ]
     },
     "execution_count": 10,
     "metadata": {},
     "output_type": "execute_result"
    }
   ],
   "source": [
    "fevereiro_2025 > 3 or 3 < fevereiro_2025"
   ]
  },
  {
   "cell_type": "markdown",
   "id": "a7fd1292",
   "metadata": {},
   "source": [
    "**Teste 2.3:**\n",
    "\n",
    "Teste se fevereiro_2025 é maior que 'janeiro'. \n",
    "\n",
    "Resultado esperado: True"
   ]
  },
  {
   "cell_type": "code",
   "execution_count": 11,
   "id": "404f27f5",
   "metadata": {},
   "outputs": [
    {
     "data": {
      "text/plain": [
       "True"
      ]
     },
     "execution_count": 11,
     "metadata": {},
     "output_type": "execute_result"
    }
   ],
   "source": [
    "fevereiro_2025 > 'janeiro' and 'janeiro' < fevereiro_2025"
   ]
  },
  {
   "cell_type": "markdown",
   "id": "6de9159b",
   "metadata": {},
   "source": [
    "**Teste 2.4:**\n",
    "\n",
    "Teste se fevereiro_2025 é maior 'fevereiro'. \n",
    "\n",
    "Resultado esperado: False"
   ]
  },
  {
   "cell_type": "code",
   "execution_count": 12,
   "id": "cd61e3a9",
   "metadata": {
    "scrolled": true
   },
   "outputs": [
    {
     "data": {
      "text/plain": [
       "False"
      ]
     },
     "execution_count": 12,
     "metadata": {},
     "output_type": "execute_result"
    }
   ],
   "source": [
    "fevereiro_2025 > 'fevereiro' or 'fevereiro' < fevereiro_2025"
   ]
  },
  {
   "cell_type": "markdown",
   "id": "49b56569",
   "metadata": {},
   "source": [
    "**Teste 2.5:**\n",
    "\n",
    "Teste se janeiro_2026 é maior que janeiro_2025. \n",
    "\n",
    "Resultado esperado: True"
   ]
  },
  {
   "cell_type": "code",
   "execution_count": 13,
   "id": "633ab6d1",
   "metadata": {},
   "outputs": [
    {
     "data": {
      "text/plain": [
       "True"
      ]
     },
     "execution_count": 13,
     "metadata": {},
     "output_type": "execute_result"
    }
   ],
   "source": [
    "janeiro_2026 > janeiro_2025 and janeiro_2025 < janeiro_2026"
   ]
  },
  {
   "cell_type": "markdown",
   "id": "21ede8e7",
   "metadata": {},
   "source": [
    "**Teste 2.6:**\n",
    "\n",
    "Teste se fevereiro_2025 é maior que janeiro_2025. \n",
    "\n",
    "Resultado esperado: True"
   ]
  },
  {
   "cell_type": "code",
   "execution_count": 14,
   "id": "c91da5af",
   "metadata": {},
   "outputs": [
    {
     "data": {
      "text/plain": [
       "True"
      ]
     },
     "execution_count": 14,
     "metadata": {},
     "output_type": "execute_result"
    }
   ],
   "source": [
    "fevereiro_2025 > janeiro_2025 and janeiro_2025 < fevereiro_2025"
   ]
  },
  {
   "cell_type": "markdown",
   "id": "c4c9939a",
   "metadata": {},
   "source": [
    "**Teste 2.7:**\n",
    "\n",
    "Teste se fevereiro_2025 é maior fevereiro_2025. \n",
    "\n",
    "Resultado esperado: False"
   ]
  },
  {
   "cell_type": "code",
   "execution_count": 15,
   "id": "e8d4a43e",
   "metadata": {},
   "outputs": [
    {
     "data": {
      "text/plain": [
       "False"
      ]
     },
     "execution_count": 15,
     "metadata": {},
     "output_type": "execute_result"
    }
   ],
   "source": [
    "fevereiro_2025 > fevereiro_2025 or fevereiro_2025 < fevereiro_2025"
   ]
  },
  {
   "cell_type": "markdown",
   "id": "f0a50484",
   "metadata": {},
   "source": [
    "### Conclusão:\n",
    "Os métodos dunder se mostraram úteis como métodos específicos de uma classe, a partir dele, pude usar operadores padrões do python para realizar operações comparativas de um objeto, que pode ser útil na implementação do projeto por conta de sua eficácia e traz agilidade ao código. Esta classe pode ser adaptada para ser utilizada como um dia específico, que pode ajudar na filtragem de dados e consequentemente na plotagemdos dados."
   ]
  },
  {
   "cell_type": "markdown",
   "id": "be155082",
   "metadata": {},
   "source": [
    "### Referências\n",
    "\n",
    "- Projeto final de PCD: https://github.com/GabrielMartinsSousa/Projeto_PCD_Climogramas/tree/main\n",
    "- Site sobre métodos dunder: https://www.pythonmorsels.com/every-dunder-method/"
   ]
  }
 ],
 "metadata": {
  "kernelspec": {
   "display_name": "Python 3",
   "language": "python",
   "name": "python3"
  },
  "language_info": {
   "codemirror_mode": {
    "name": "ipython",
    "version": 3
   },
   "file_extension": ".py",
   "mimetype": "text/x-python",
   "name": "python",
   "nbconvert_exporter": "python",
   "pygments_lexer": "ipython3",
   "version": "3.11.6"
  }
 },
 "nbformat": 4,
 "nbformat_minor": 5
}
